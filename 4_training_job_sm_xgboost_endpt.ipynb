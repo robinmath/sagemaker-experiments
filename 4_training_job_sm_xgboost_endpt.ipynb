{
 "cells": [
  {
   "cell_type": "code",
   "execution_count": 1,
   "id": "711788f2-1e83-406e-ba24-cca2514cde28",
   "metadata": {},
   "outputs": [
    {
     "name": "stdout",
     "output_type": "stream",
     "text": [
      "sagemaker.config INFO - Not applying SDK defaults from location: /etc/xdg/sagemaker/config.yaml\n",
      "sagemaker.config INFO - Not applying SDK defaults from location: /home/sagemaker-user/.config/sagemaker/config.yaml\n"
     ]
    }
   ],
   "source": [
    "import sagemaker\n",
    "from sagemaker import get_execution_role\n",
    "from sagemaker.inputs import TrainingInput\n",
    "from sagemaker.estimator import Estimator\n",
    "\n",
    "# S3 path to your dataset (replace with your actual bucket and prefix)\n",
    "s3_bucket = \"apartment-pricing\"\n",
    "s3_prefix = \"xgboost-dataset\"\n",
    "\n",
    "# s3_data_path = \"s3://apartment-pricing/preprocessed/data/csv/\" -- use r5.12xlarge for the dataset\n",
    "s3_data_path = \"s3://apartment-pricing/preprocessed/data/csv/part-00009-0afa893a-e1f7-408c-9dc3-a22b0207eb95-c000.csv\"\n",
    "\n",
    "# Get SageMaker execution role\n",
    "role = get_execution_role()\n",
    "\n",
    "# Define XGBoost container image\n",
    "region = sagemaker.Session().boto_region_name\n",
    "container = sagemaker.image_uris.retrieve(\"xgboost\", region, \"1.5-1\")\n"
   ]
  },
  {
   "cell_type": "code",
   "execution_count": 2,
   "id": "a8b18c6c-412d-48da-9b5a-aad496797909",
   "metadata": {},
   "outputs": [],
   "source": [
    "# Define XGBoost Estimator\n",
    "xgboost_estimator = Estimator(\n",
    "    image_uri=container,\n",
    "    role=role,\n",
    "    instance_count=1,  # Increase for distributed training if needed\n",
    "    instance_type=\"ml.m5.xlarge\",  # Choose instance type\n",
    "    volume_size=30,  # GB, size of EBS volume\n",
    "    max_run=3600,  # Max training time in seconds\n",
    "    input_mode=\"Pipe\",  # Use Pipe mode for large datasets\n",
    "    output_path=f\"s3://apartment-pricing/xgboost-output/\",\n",
    ")\n",
    "\n",
    "# Set hyperparameters for XGBoost\n",
    "xgboost_estimator.set_hyperparameters(\n",
    "    objective=\"reg:squarederror\",  # Regression task\n",
    "    num_round=10,  # Number of boosting rounds\n",
    "    max_depth=6,  # Maximum tree depth\n",
    "    eta=0.3,  # Learning rate\n",
    "    subsample=0.8,  # Subsampling ratio\n",
    "    colsample_bytree=0.8,  # Subsampling of features\n",
    ")\n"
   ]
  },
  {
   "cell_type": "code",
   "execution_count": 6,
   "id": "b3d72075-0a24-4100-bd29-5f42d4c26ee0",
   "metadata": {},
   "outputs": [],
   "source": [
    "# Define training input\n",
    "training_input = TrainingInput(\n",
    "    s3_data_path,\n",
    "    content_type=\"text/csv\",  # Data type\n",
    "    input_mode=\"Pipe\"         # Pipe mode for efficient streaming\n",
    ")\n"
   ]
  },
  {
   "cell_type": "code",
   "execution_count": 7,
   "id": "342b045c-842d-496c-93bf-8ea7912e1c72",
   "metadata": {},
   "outputs": [
    {
     "name": "stderr",
     "output_type": "stream",
     "text": [
      "INFO:sagemaker:Creating training-job with name: sagemaker-xgboost-2024-11-24-05-20-36-140\n"
     ]
    },
    {
     "name": "stdout",
     "output_type": "stream",
     "text": [
      "2024-11-24 05:20:37 Starting - Starting the training job...\n",
      "2024-11-24 05:20:51 Starting - Preparing the instances for training...\n",
      "2024-11-24 05:21:18 Downloading - Downloading input data...\n",
      "2024-11-24 05:21:43 Downloading - Downloading the training image...\n",
      "2024-11-24 05:22:24 Training - Training image download completed. Training in progress.\u001b[34m/miniconda3/lib/python3.8/site-packages/xgboost/compat.py:36: FutureWarning: pandas.Int64Index is deprecated and will be removed from pandas in a future version. Use pandas.Index with the appropriate dtype instead.\n",
      "  from pandas import MultiIndex, Int64Index\u001b[0m\n",
      "\u001b[34m[2024-11-24 05:22:31.805 ip-10-2-88-184.ec2.internal:7 INFO utils.py:28] RULE_JOB_STOP_SIGNAL_FILENAME: None\u001b[0m\n",
      "\u001b[34m[2024-11-24 05:22:31.826 ip-10-2-88-184.ec2.internal:7 INFO profiler_config_parser.py:111] User has disabled profiler.\u001b[0m\n",
      "\u001b[34m[2024-11-24:05:22:32:INFO] Imported framework sagemaker_xgboost_container.training\u001b[0m\n",
      "\u001b[34m[2024-11-24:05:22:32:INFO] Failed to parse hyperparameter objective value reg:squarederror to Json.\u001b[0m\n",
      "\u001b[34mReturning the value itself\u001b[0m\n",
      "\u001b[34m[2024-11-24:05:22:32:INFO] No GPUs detected (normal if no gpus installed)\u001b[0m\n",
      "\u001b[34m[2024-11-24:05:22:32:INFO] Running XGBoost Sagemaker in algorithm mode\u001b[0m\n",
      "\u001b[34m[2024-11-24:05:22:32:INFO] Determined 0 GPU(s) available on the instance.\u001b[0m\n",
      "\u001b[34m[2024-11-24:05:22:32:INFO] Pipe path /opt/ml/input/data/train found.\u001b[0m\n",
      "\u001b[34m[2024-11-24:05:22:32:INFO] files path: ['/opt/ml/input/data/train']\u001b[0m\n",
      "\u001b[34m[2024-11-24:05:22:51:INFO] Single node training.\u001b[0m\n",
      "\u001b[34m[2024-11-24:05:22:51:INFO] Train matrix has 20504626 rows and 9 columns\u001b[0m\n",
      "\u001b[34m[2024-11-24 05:22:51.665 ip-10-2-88-184.ec2.internal:7 INFO json_config.py:92] Creating hook from json_config at /opt/ml/input/config/debughookconfig.json.\u001b[0m\n",
      "\u001b[34m[2024-11-24 05:22:51.666 ip-10-2-88-184.ec2.internal:7 INFO hook.py:206] tensorboard_dir has not been set for the hook. SMDebug will not be exporting tensorboard summaries.\u001b[0m\n",
      "\u001b[34m[2024-11-24 05:22:51.667 ip-10-2-88-184.ec2.internal:7 INFO hook.py:259] Saving to /opt/ml/output/tensors\u001b[0m\n",
      "\u001b[34m[2024-11-24 05:22:51.667 ip-10-2-88-184.ec2.internal:7 INFO state_store.py:77] The checkpoint config file /opt/ml/input/config/checkpointconfig.json does not exist.\u001b[0m\n",
      "\u001b[34m[2024-11-24:05:22:51:INFO] Debug hook created from config\u001b[0m\n",
      "\u001b[34m[2024-11-24 05:23:08.449 ip-10-2-88-184.ec2.internal:7 INFO hook.py:427] Monitoring the collections: metrics\u001b[0m\n",
      "\u001b[34m[2024-11-24 05:23:08.452 ip-10-2-88-184.ec2.internal:7 INFO hook.py:491] Hook is writing from the hook with pid: 7\u001b[0m\n",
      "\u001b[34m[0]#011train-rmse:3587.65576\u001b[0m\n",
      "\u001b[34m[1]#011train-rmse:2641.65112\u001b[0m\n",
      "\u001b[34m[2]#011train-rmse:1865.45764\u001b[0m\n",
      "\u001b[34m[3]#011train-rmse:1430.82788\u001b[0m\n",
      "\u001b[34m[4]#011train-rmse:1025.73926\u001b[0m\n",
      "\u001b[34m[5]#011train-rmse:748.71668\u001b[0m\n",
      "\u001b[34m[6]#011train-rmse:563.35284\u001b[0m\n",
      "\u001b[34m[7]#011train-rmse:442.30914\u001b[0m\n",
      "\u001b[34m[8]#011train-rmse:367.03763\u001b[0m\n",
      "\u001b[34m[9]#011train-rmse:321.14053\u001b[0m\n",
      "\n",
      "2024-11-24 05:24:58 Uploading - Uploading generated training model\n",
      "2024-11-24 05:24:58 Completed - Training job completed\n",
      "Training seconds: 220\n",
      "Billable seconds: 220\n",
      "Training job completed.\n"
     ]
    }
   ],
   "source": [
    "# Start the training job\n",
    "xgboost_estimator.fit({\"train\": training_input})\n",
    "\n",
    "print(\"Training job completed.\")\n"
   ]
  },
  {
   "cell_type": "code",
   "execution_count": null,
   "id": "fcea7793-bb93-4fa3-9ef9-6a3c86d1ee04",
   "metadata": {},
   "outputs": [],
   "source": [
    "# estimator.deploy to endpoint\n",
    "# did here from console"
   ]
  },
  {
   "cell_type": "code",
   "execution_count": 1,
   "id": "a19f3c38-5e91-44d2-a6c2-57c1b4966f7c",
   "metadata": {},
   "outputs": [],
   "source": [
    "# estimator predict and check samples from endpoint"
   ]
  },
  {
   "cell_type": "code",
   "execution_count": 3,
   "id": "8b3488f4-f56a-4392-b85d-387f86d87a17",
   "metadata": {},
   "outputs": [
    {
     "name": "stdout",
     "output_type": "stream",
     "text": [
      "Predicted Rent: 2765.92333984375\n",
      "\n"
     ]
    }
   ],
   "source": [
    "import boto3\n",
    "import json\n",
    "\n",
    "# Initialize SageMaker runtime client\n",
    "sagemaker_runtime = boto3.client('sagemaker-runtime')\n",
    "\n",
    "# Endpoint name\n",
    "endpoint_name = \"xg-boost-endpoint\"  # Replace with your actual endpoint name\n",
    "\n",
    "# Input data as a CSV string (ensure no header is included)\n",
    "input_data = \"1098,1,1,0,1,1,2.56,2.2,16\"\n",
    "\n",
    "# Invoke the endpoint\n",
    "response = sagemaker_runtime.invoke_endpoint(\n",
    "    EndpointName=endpoint_name,\n",
    "    ContentType=\"text/csv\",  # Ensure this matches your endpoint's expected format\n",
    "    Body=input_data\n",
    ")\n",
    "\n",
    "# Parse the response\n",
    "result = response['Body'].read().decode('utf-8')\n",
    "print(\"Predicted Rent:\", result)\n"
   ]
  },
  {
   "cell_type": "code",
   "execution_count": null,
   "id": "cb93f2b1-3854-4cd3-ab26-90a6834373b0",
   "metadata": {},
   "outputs": [],
   "source": [
    "# use batch transform jobs it if there are too many samples for infer/predict.. auto deploys endpoint"
   ]
  }
 ],
 "metadata": {
  "kernelspec": {
   "display_name": "Python 3 (ipykernel)",
   "language": "python",
   "name": "python3"
  },
  "language_info": {
   "codemirror_mode": {
    "name": "ipython",
    "version": 3
   },
   "file_extension": ".py",
   "mimetype": "text/x-python",
   "name": "python",
   "nbconvert_exporter": "python",
   "pygments_lexer": "ipython3",
   "version": "3.11.10"
  }
 },
 "nbformat": 4,
 "nbformat_minor": 5
}
