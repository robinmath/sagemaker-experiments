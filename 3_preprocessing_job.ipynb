{
 "cells": [
  {
   "cell_type": "code",
   "execution_count": 1,
   "id": "623f7d4f-445a-4303-b926-054e23410c12",
   "metadata": {
    "kernelspec": {
     "display_name": "SparkMagic PySpark",
     "language": "python",
     "name": "pysparkkernel"
    },
    "language_info": {
     "codemirror_mode": {
      "name": "python",
      "version": 3
     },
     "file_extension": ".py",
     "mimetype": "text/x-python",
     "name": "pyspark",
     "pygments_lexer": "python3"
    }
   },
   "outputs": [
    {
     "name": "stdout",
     "output_type": "stream",
     "text": [
      "Waiting for EMR Serverless application state to become STARTED\n",
      "Waiting for EMR Serverless application state to become STARTED\n",
      "Initiating EMR Serverless connection..\n",
      "Starting Spark application\n"
     ]
    },
    {
     "data": {
      "text/html": [
       "<table>\n",
       "<tr><th>ID</th><th>YARN Application ID</th><th>Kind</th><th>State</th><th>Spark UI</th><th>Driver log</th><th>User</th><th>Current session?</th></tr><tr><td>0</td><td>00fo66516l1ehh0a</td><td>pyspark</td><td>idle</td><td><a target=\"_blank\" href=\"https://j-00fo66516l1ehh0a.dashboard.emr-serverless.us-east-1.amazonaws.com/?authToken=eDAxxzO8FqjpZ2MC1SMfS3iYn0oCmXp8rAgTE9uk9v9v6P84S0jMh1WNQUa_61I2DhE3QhgC_wDr0Hxq1KUkeJDW20ubaMi1F-TEoOF_EE6jddOqxq_9tfj1HSLAE49r72R9X9zKaKyo2JTQWCjhvOhaI-sB8kGtkUQsASXZZWt3Wpn3nvsD0e8dvMIn_ZiBPssMYrAtnqJ61UAfuNCXAUSOHZ6SluJxnBsFM8sKqRQ2dnlCutNQjdabGUNspEEMXiZiQYaV7Qz8FY6mKuoJCwrpzEf_OTAC3UQ9kop1hbLo7Nlzp6frPp64nV8wlykimXin2RpAdVQszO84QlZSWtm2fdB3iI62yh1mJja3QcT-q18qIyBzIFC6j8VmtdLR4Ls2Jzvv70-yQLL0X-_GURDPQAs0Hb2Fm4ZMms9QBkmrYg677KfUEVANVkb3eCQMTVnRCbv9B4sXdTZL8SXxa6wWVnF103didVgaCBaeRzi4sI518BVsSOyRwYAsQIH0yoKvK77y7vlqI6z4NyzBd-N_CZayJ0zuA2IuOrl6iw6WTnO3anezhW2ciAmKI9Fi9JHehwoeKoItmFOcTkKK-HvKTZnlZwE60eyAcfpF2Pm-DtZrSZqpNWKA0KSUvA1Dp7p4NS-OeucJz57MoCJZXbgyTqbyyThwJyByIgjQ62s1q1Yx02ufeXtGRvMD_97sLdEKqGwpHJtuakGeCTqeJ_wNUD7whFSMgJMr-ZWWSdJyEN_l7LsK8NsWYA9YsdvPj1jYoAKDuqt3yxxODvsiws6fInmWiXETXcvi2aW1GaOcsE9htTrWs_Fq0RvmouuyFXyIWh-O0nfjgabFGlmrEjDQ4Ghkqhs2xiRouHjm6if3otP_ZxyNws-RgOJg9Y5gamDla2-WyqAhR2AmZppZHKf-lI7Sd7wHW0N7juWY4UGPz7i0FJufgn4vcYu9iSlSHiY.eyJraWQiOiJBUUlCQUhnTVJ1MlZyR2FFajR3bTc2dEZqMThGMUsyVFdZbkk4WXpxS0lRamg5YTZHZ0V4blFlbnA5SXNVYTQ2U1k2cFh6QUZBQUFBb2pDQm53WUpLb1pJaHZjTkFRY0dvSUdSTUlHT0FnRUFNSUdJQmdrcWhraUc5dzBCQndFd0hnWUpZSVpJQVdVREJBRXVNQkVFREZBenROdVZzVkNEd3JDOWR3SUJFSUJibEdxWHJENDlZOVJyV3Y2allDV0RoR1RkTWFkSUV5S0ExNFo2NkZoQjZBbXdveE5XbEFVRVdhWU96d0ZGV3VrRmNnQ2JaOE1hdW1sMlhNOVFkem5kVnNXVTFGQ1lvbEhOUTMvY2hPbmMrM1JtRENkUVNGRUJNSmVVZUE9PSJ9\">Link</a></td><td><a target=\"_blank\" href=\"https://j-00fo66516l1ehh0a.dashboard.emr-serverless.us-east-1.amazonaws.com/logs/SPARK_DRIVER/stderr.gz?authToken=eDAx4Gc3osnklVYsiZzIYKIZu1ZNTbOdQ0R_Tc6iiU1hkorTKeR-9lAYI4_IzyV_qXz8NbO3O5DVJJ3lKEUfWCOD8KFearIWHp9jrJhlSEFXLzy_diIZEohjvnWHrHOq2gcXfWT1WLOgDEQ39_NVqaP8SP-kGtACbaNzXUe0afE4fPGAM5x3kwoIqbeq5UEZM2Bw68lRncA8Yanwb1AbgMfy1CXn40zErpf2JknuHgEaTNgBuBMpf6aHybNoyrePUNnT8Odkrej2mQ_qo3ZaP8Lh_m6hamiWxrAUofpjccMRBmKGWD4dc3UzlPnujWsmGfoji6OpexkIT47gAjxgkI6gh0f9Tg7oy2gRanwyBUV2qvxd6WAy4awY9lnJdwTeLzc1b23oCtS5fGIpBt2GjxrMfLXaBdOGyFeTwXnH81WqYMDkM59qeua-hwDuSmQ1wGr6exoRQcFGns3vQx6LZRfuhY5CjXRafah-3lcYxxliUaJHDW3eOu0SklDXqeLGV5W3932Ymcq9l6Q0A97oEBiqmy577BIMSxYNldzrdHhHeiZc4NHQVUvgbYoVhgNVmJS04yc-d-mA0gUewMdWFfB73z3_vH9cAuIo2aY9FS_QKDN3WIAAuf0mcbzDSR2irF3eadAJTxTL1vYeepnGwp7T6aAK42-9H3almwwhLBcRKVHJoV5j1Eo4vczYoEl9pO8H2cSTP4utREORsujs8B_4E6iZzrHYogNenn92xmFHyyA-ZYuoAjzXAG2aWzVTu1LZWPM0BAWWG5IQRRf_qRhfZBzv5U-L2GMTnDAR1xYC3M0WO6ksNAlj1uRhq3J5y0wbG7_UPvIO2OGMIeUN89lZMNNOBlBfCsRuCKmrxlKCeOvekM-zWbq1YhcSeXGwfcM1lQAKAnJCzJZ-CfVOqE6j6dffR9cmIcxCcYsXvndDQuB1vwUiPFXdqRCdpzKXEUw.eyJraWQiOiJBUUlCQUhnTVJ1MlZyR2FFajR3bTc2dEZqMThGMUsyVFdZbkk4WXpxS0lRamg5YTZHZ0V4blFlbnA5SXNVYTQ2U1k2cFh6QUZBQUFBb2pDQm53WUpLb1pJaHZjTkFRY0dvSUdSTUlHT0FnRUFNSUdJQmdrcWhraUc5dzBCQndFd0hnWUpZSVpJQVdVREJBRXVNQkVFREZBenROdVZzVkNEd3JDOWR3SUJFSUJibEdxWHJENDlZOVJyV3Y2allDV0RoR1RkTWFkSUV5S0ExNFo2NkZoQjZBbXdveE5XbEFVRVdhWU96d0ZGV3VrRmNnQ2JaOE1hdW1sMlhNOVFkem5kVnNXVTFGQ1lvbEhOUTMvY2hPbmMrM1JtRENkUVNGRUJNSmVVZUE9PSJ9\">Link</a></td><td>None</td><td>✔</td></tr></table>"
      ],
      "text/plain": [
       "<IPython.core.display.HTML object>"
      ]
     },
     "metadata": {},
     "output_type": "display_data"
    },
    {
     "data": {
      "application/vnd.jupyter.widget-view+json": {
       "model_id": "",
       "version_major": 2,
       "version_minor": 0
      },
      "text/plain": [
       "FloatProgress(value=0.0, bar_style='info', description='Progress:', layout=Layout(height='25px', width='50%'),…"
      ]
     },
     "metadata": {},
     "output_type": "display_data"
    },
    {
     "name": "stdout",
     "output_type": "stream",
     "text": [
      "SparkSession available as 'spark'.\n"
     ]
    }
   ],
   "source": [
    "%load_ext sagemaker_studio_analytics_extension.magics\n",
    "%sm_analytics emr-serverless connect --application-id 00fo38nsirh68609 --language python --emr-execution-role-arn arn:aws:iam::442426877041:role/service-role/AmazonEMRStudio_RuntimeRole_1731016215290"
   ]
  },
  {
   "cell_type": "markdown",
   "id": "68d84ac8-759b-4dcc-a5a3-3bdc37b66767",
   "metadata": {},
   "source": [
    "no need of: from pyspark.sql import SparkSession\n",
    "\n",
    "it happens above automatically"
   ]
  },
  {
   "cell_type": "code",
   "execution_count": 1,
   "id": "72e2ac71-c29f-4298-89f7-6dc81cd31421",
   "metadata": {},
   "outputs": [
    {
     "name": "stdout",
     "output_type": "stream",
     "text": [
      "sagemaker.config INFO - Not applying SDK defaults from location: /etc/xdg/sagemaker/config.yaml\n",
      "sagemaker.config INFO - Not applying SDK defaults from location: /home/sagemaker-user/.config/sagemaker/config.yaml\n"
     ]
    },
    {
     "name": "stderr",
     "output_type": "stream",
     "text": [
      "INFO:sagemaker:Creating processing-job with name sm-spark-2024-11-24-02-56-09-904\n"
     ]
    },
    {
     "name": "stdout",
     "output_type": "stream",
     "text": [
      ".....................................................................................................................................................!"
     ]
    }
   ],
   "source": [
    "import sagemaker\n",
    "from sagemaker.spark.processing import PySparkProcessor\n",
    "\n",
    "# Role for SageMaker\n",
    "role = sagemaker.get_execution_role()\n",
    "\n",
    "# Spark Processor\n",
    "spark_processor = PySparkProcessor(\n",
    "    base_job_name=\"sm-spark\",\n",
    "    framework_version=\"3.1\",\n",
    "    role=role,\n",
    "    instance_count=2,\n",
    "    instance_type=\"ml.m5.xlarge\",\n",
    "    max_runtime_in_seconds=1200,\n",
    ")\n",
    "\n",
    "# Run the processing job\n",
    "spark_processor.run(\n",
    "    submit_app=\"preprocessing.py\",\n",
    "    spark_event_logs_s3_uri=\"s3://apartment-pricing/log/spark_event_logs\",\n",
    "    arguments=[\"--input-format\", \"parquet\", \"--output-format\", \"csv\"],\n",
    "    logs=False\n",
    ")\n"
   ]
  },
  {
   "cell_type": "code",
   "execution_count": null,
   "id": "5e16b7e8-5185-4b36-9a46-300f5b3a49f6",
   "metadata": {},
   "outputs": [],
   "source": []
  }
 ],
 "metadata": {
  "kernelspec": {
   "display_name": "Python 3 (ipykernel)",
   "language": "python",
   "name": "python3"
  },
  "language_info": {
   "codemirror_mode": {
    "name": "ipython",
    "version": 3
   },
   "file_extension": ".py",
   "mimetype": "text/x-python",
   "name": "python",
   "nbconvert_exporter": "python",
   "pygments_lexer": "ipython3",
   "version": "3.11.10"
  }
 },
 "nbformat": 4,
 "nbformat_minor": 5
}
