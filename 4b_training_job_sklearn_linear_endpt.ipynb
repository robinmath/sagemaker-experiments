{
 "cells": [
  {
   "cell_type": "code",
   "execution_count": 4,
   "id": "711788f2-1e83-406e-ba24-cca2514cde28",
   "metadata": {},
   "outputs": [
    {
     "name": "stdout",
     "output_type": "stream",
     "text": [
      "Overwriting train.py\n"
     ]
    }
   ],
   "source": [
    "%%writefile train.py\n",
    "\n",
    "## use this link for reference\n",
    "## https://sagemaker.readthedocs.io/en/stable/frameworks/sklearn/using_sklearn.html\n",
    "\n",
    "import argparse\n",
    "import os\n",
    "import pandas as pd\n",
    "import joblib\n",
    "from sklearn.linear_model import LinearRegression\n",
    "from sklearn.model_selection import train_test_split\n",
    "from sklearn.metrics import mean_squared_error\n",
    "\n",
    "# Define model_fn to load the model for deployment\n",
    "def model_fn(model_dir):\n",
    "    \"\"\"Load model from the model directory.\"\"\"\n",
    "    model_path = os.path.join(model_dir, \"model.joblib\")\n",
    "    return joblib.load(model_path)\n",
    "    \n",
    "def main():\n",
    "    # Parse input arguments\n",
    "    parser = argparse.ArgumentParser()\n",
    "    parser.add_argument(\"--model-dir\", type=str, default=os.environ.get(\"SM_MODEL_DIR\"))\n",
    "    parser.add_argument(\"--train\", type=str, default=os.environ.get(\"SM_CHANNEL_TRAIN\"))\n",
    "    parser.add_argument(\"--fit-intercept\", type=bool, default=True)\n",
    "    parser.add_argument(\"--normalize\", type=bool, default=False)\n",
    "    args = parser.parse_args()\n",
    "\n",
    "    # Load training data\n",
    "    train_data = pd.read_csv(os.path.join(args.train, \"rental_pricing_dataset.csv\"))\n",
    "    \n",
    "    # Separate features and target\n",
    "    X = train_data.drop(\"Rent\", axis=1)\n",
    "    y = train_data[\"Rent\"]\n",
    "\n",
    "    # Split into train and validation sets\n",
    "    X_train, X_val, y_train, y_val = train_test_split(X, y, test_size=0.2, random_state=42)\n",
    "\n",
    "    # Train the model with specified hyperparameters\n",
    "    model = LinearRegression(fit_intercept=args.fit_intercept, normalize=args.normalize)\n",
    "    model.fit(X_train, y_train)\n",
    "\n",
    "    # Evaluate on validation set\n",
    "    y_pred = model.predict(X_val)\n",
    "    mse = mean_squared_error(y_val, y_pred)\n",
    "    print(f\"Validation Mean Squared Error: {mse}\")\n",
    "\n",
    "    # Save the model\n",
    "    model_path = os.path.join(args.model_dir, \"model.joblib\")\n",
    "    joblib.dump(model, model_path)\n",
    "\n",
    "if __name__ == \"__main__\":\n",
    "    main()\n"
   ]
  },
  {
   "cell_type": "code",
   "execution_count": null,
   "id": "cd362c8a-3b11-4477-88c9-ef77abe6bbee",
   "metadata": {},
   "outputs": [],
   "source": [
    "# for local training\n",
    "# first give access to Docker in domain by running this in shell\n",
    "# aws --region us-east-1     sagemaker update-domain --domain-id d-73cncbueggsv     --domain-settings-for-update '{\"DockerSettings\": {\"EnableDockerAccess\": \"ENABLED\"}}'"
   ]
  },
  {
   "cell_type": "code",
   "execution_count": null,
   "id": "9da49bf9-f840-473a-b314-c0b2a2e1756c",
   "metadata": {},
   "outputs": [],
   "source": [
    "# now install docker in local instance\n",
    "!/bin/bash \"AmazonSageMakerCourse/CustomAlgorithm/docker_install.sh\""
   ]
  },
  {
   "cell_type": "code",
   "execution_count": 5,
   "id": "05fcae0e-68f7-44c6-8468-e99a7e31563b",
   "metadata": {},
   "outputs": [
    {
     "name": "stderr",
     "output_type": "stream",
     "text": [
      "INFO:sagemaker:Creating training-job with name: sagemaker-scikit-learn-2024-12-02-06-30-30-682\n",
      "INFO:sagemaker.telemetry.telemetry_logging:SageMaker Python SDK will collect telemetry to help us better understand our user's needs, diagnose issues, and deliver additional features.\n",
      "To opt out of telemetry, please disable via TelemetryOptOut parameter in SDK defaults config. For more information, refer to https://sagemaker.readthedocs.io/en/stable/overview.html#configuring-and-using-defaults-with-the-sagemaker-python-sdk.\n",
      "INFO:sagemaker.local.image:'Docker Compose' found using Docker CLI.\n",
      "INFO:sagemaker.local.local_session:Starting training job\n",
      "WARNING:sagemaker.local.image:Using the short-lived AWS credentials found in session. They might expire while running.\n",
      "INFO:sagemaker.local.image:docker compose file: \n",
      "services:\n",
      "  sagemaker-local:\n",
      "    command: train\n",
      "    container_name: tizv2teaxh-sagemaker-local\n",
      "    environment:\n",
      "    - '[Masked]'\n",
      "    - '[Masked]'\n",
      "    - '[Masked]'\n",
      "    - '[Masked]'\n",
      "    - '[Masked]'\n",
      "    - '[Masked]'\n",
      "    - '[Masked]'\n",
      "    image: 683313688378.dkr.ecr.us-east-1.amazonaws.com/sagemaker-scikit-learn:1.0-1-cpu-py3\n",
      "    network_mode: sagemaker\n",
      "    stdin_open: true\n",
      "    tty: true\n",
      "    volumes:\n",
      "    - /home/sagemaker-user/tmp/tmpgvmr38ng/sagemaker-local/output/data:/opt/ml/output/data\n",
      "    - /home/sagemaker-user/tmp/tmpgvmr38ng/sagemaker-local/input:/opt/ml/input\n",
      "    - /home/sagemaker-user/tmp/tmpgvmr38ng/sagemaker-local/output:/opt/ml/output\n",
      "    - /home/sagemaker-user/tmp/tmpgvmr38ng/model:/opt/ml/model\n",
      "    - /opt/ml/metadata:/opt/ml/metadata\n",
      "    - /home/sagemaker-user/tmp/tmpixwp_xth:/opt/ml/input/data/train\n",
      "version: '2.3'\n",
      "\n",
      "WARNING! Your password will be stored unencrypted in /home/sagemaker-user/.docker/config.json.\n",
      "Configure a credential helper to remove this warning. See\n",
      "https://docs.docker.com/engine/reference/commandline/login/#credentials-store\n",
      "\n",
      "INFO:sagemaker.local.image:docker command: docker pull 683313688378.dkr.ecr.us-east-1.amazonaws.com/sagemaker-scikit-learn:1.0-1-cpu-py3\n"
     ]
    },
    {
     "name": "stdout",
     "output_type": "stream",
     "text": [
      "Login Succeeded\n"
     ]
    },
    {
     "name": "stderr",
     "output_type": "stream",
     "text": [
      "INFO:sagemaker.local.image:image pulled: 683313688378.dkr.ecr.us-east-1.amazonaws.com/sagemaker-scikit-learn:1.0-1-cpu-py3\n",
      "INFO:sagemaker.local.image:docker command: docker compose -f /home/sagemaker-user/tmp/tmpgvmr38ng/docker-compose.yaml up --build --abort-on-container-exit\n"
     ]
    },
    {
     "name": "stdout",
     "output_type": "stream",
     "text": [
      "time=\"2024-12-02T06:32:23Z\" level=warning msg=\"/home/sagemaker-user/tmp/tmpgvmr38ng/docker-compose.yaml: the attribute `version` is obsolete, it will be ignored, please remove it to avoid potential confusion\"\n",
      " Container tizv2teaxh-sagemaker-local  Creating\n",
      " Container tizv2teaxh-sagemaker-local  Created\n",
      "Attaching to tizv2teaxh-sagemaker-local\n",
      "tizv2teaxh-sagemaker-local  | 2024-12-02 06:32:24,923 sagemaker-containers INFO     Imported framework sagemaker_sklearn_container.training\n",
      "tizv2teaxh-sagemaker-local  | 2024-12-02 06:32:24,928 sagemaker-training-toolkit INFO     No GPUs detected (normal if no gpus installed)\n",
      "tizv2teaxh-sagemaker-local  | 2024-12-02 06:32:24,931 sagemaker-training-toolkit INFO     No Neurons detected (normal if no neurons installed)\n",
      "tizv2teaxh-sagemaker-local  | 2024-12-02 06:32:24,949 sagemaker-training-toolkit INFO     instance_groups entry not present in resource_config\n",
      "tizv2teaxh-sagemaker-local  | 2024-12-02 06:32:24,963 sagemaker_sklearn_container.training INFO     Invoking user training script.\n",
      "tizv2teaxh-sagemaker-local  | 2024-12-02 06:32:25,304 sagemaker_training.entry_point INFO     Bypass DNS check in case of Studio Local Mode execution.\n",
      "tizv2teaxh-sagemaker-local  | 2024-12-02 06:32:25,311 sagemaker-training-toolkit INFO     No GPUs detected (normal if no gpus installed)\n",
      "tizv2teaxh-sagemaker-local  | 2024-12-02 06:32:25,316 sagemaker-training-toolkit INFO     No Neurons detected (normal if no neurons installed)\n",
      "tizv2teaxh-sagemaker-local  | 2024-12-02 06:32:25,328 sagemaker-training-toolkit INFO     instance_groups entry not present in resource_config\n",
      "tizv2teaxh-sagemaker-local  | 2024-12-02 06:32:25,344 sagemaker-training-toolkit INFO     No GPUs detected (normal if no gpus installed)\n",
      "tizv2teaxh-sagemaker-local  | 2024-12-02 06:32:25,350 sagemaker-training-toolkit INFO     No Neurons detected (normal if no neurons installed)\n",
      "tizv2teaxh-sagemaker-local  | 2024-12-02 06:32:25,365 sagemaker-training-toolkit INFO     instance_groups entry not present in resource_config\n",
      "tizv2teaxh-sagemaker-local  | 2024-12-02 06:32:25,405 sagemaker-training-toolkit INFO     Invoking user script\n",
      "tizv2teaxh-sagemaker-local  | \n",
      "tizv2teaxh-sagemaker-local  | Training Env:\n",
      "tizv2teaxh-sagemaker-local  | \n",
      "tizv2teaxh-sagemaker-local  | {\n",
      "tizv2teaxh-sagemaker-local  |     \"additional_framework_parameters\": {},\n",
      "tizv2teaxh-sagemaker-local  |     \"channel_input_dirs\": {\n",
      "tizv2teaxh-sagemaker-local  |         \"train\": \"/opt/ml/input/data/train\"\n",
      "tizv2teaxh-sagemaker-local  |     },\n",
      "tizv2teaxh-sagemaker-local  |     \"current_host\": \"sagemaker-local\",\n",
      "tizv2teaxh-sagemaker-local  |     \"current_instance_group\": \"homogeneousCluster\",\n",
      "tizv2teaxh-sagemaker-local  |     \"current_instance_group_hosts\": [],\n",
      "tizv2teaxh-sagemaker-local  |     \"current_instance_type\": \"local\",\n",
      "tizv2teaxh-sagemaker-local  |     \"distribution_hosts\": [\n",
      "tizv2teaxh-sagemaker-local  |         \"sagemaker-local\"\n",
      "tizv2teaxh-sagemaker-local  |     ],\n",
      "tizv2teaxh-sagemaker-local  |     \"distribution_instance_groups\": [],\n",
      "tizv2teaxh-sagemaker-local  |     \"framework_module\": \"sagemaker_sklearn_container.training:main\",\n",
      "tizv2teaxh-sagemaker-local  |     \"hosts\": [\n",
      "tizv2teaxh-sagemaker-local  |         \"sagemaker-local\"\n",
      "tizv2teaxh-sagemaker-local  |     ],\n",
      "tizv2teaxh-sagemaker-local  |     \"hyperparameters\": {\n",
      "tizv2teaxh-sagemaker-local  |         \"fit-intercept\": true,\n",
      "tizv2teaxh-sagemaker-local  |         \"normalize\": false\n",
      "tizv2teaxh-sagemaker-local  |     },\n",
      "tizv2teaxh-sagemaker-local  |     \"input_config_dir\": \"/opt/ml/input/config\",\n",
      "tizv2teaxh-sagemaker-local  |     \"input_data_config\": {\n",
      "tizv2teaxh-sagemaker-local  |         \"train\": {\n",
      "tizv2teaxh-sagemaker-local  |             \"TrainingInputMode\": \"File\"\n",
      "tizv2teaxh-sagemaker-local  |         }\n",
      "tizv2teaxh-sagemaker-local  |     },\n",
      "tizv2teaxh-sagemaker-local  |     \"input_dir\": \"/opt/ml/input\",\n",
      "tizv2teaxh-sagemaker-local  |     \"instance_groups\": [],\n",
      "tizv2teaxh-sagemaker-local  |     \"instance_groups_dict\": {},\n",
      "tizv2teaxh-sagemaker-local  |     \"is_hetero\": false,\n",
      "tizv2teaxh-sagemaker-local  |     \"is_master\": true,\n",
      "tizv2teaxh-sagemaker-local  |     \"is_modelparallel_enabled\": null,\n",
      "tizv2teaxh-sagemaker-local  |     \"is_smddpmprun_installed\": false,\n",
      "tizv2teaxh-sagemaker-local  |     \"is_smddprun_installed\": false,\n",
      "tizv2teaxh-sagemaker-local  |     \"job_name\": \"sagemaker-scikit-learn-2024-12-02-06-30-30-682\",\n",
      "tizv2teaxh-sagemaker-local  |     \"log_level\": 20,\n",
      "tizv2teaxh-sagemaker-local  |     \"master_hostname\": \"sagemaker-local\",\n",
      "tizv2teaxh-sagemaker-local  |     \"model_dir\": \"/opt/ml/model\",\n",
      "tizv2teaxh-sagemaker-local  |     \"module_dir\": \"s3://apartment-pricing/sagemaker-scikit-learn-2024-12-02-06-30-30-682/source/sourcedir.tar.gz\",\n",
      "tizv2teaxh-sagemaker-local  |     \"module_name\": \"train\",\n",
      "tizv2teaxh-sagemaker-local  |     \"network_interface_name\": \"eth0\",\n",
      "tizv2teaxh-sagemaker-local  |     \"num_cpus\": 2,\n",
      "tizv2teaxh-sagemaker-local  |     \"num_gpus\": 0,\n",
      "tizv2teaxh-sagemaker-local  |     \"num_neurons\": 0,\n",
      "tizv2teaxh-sagemaker-local  |     \"output_data_dir\": \"/opt/ml/output/data\",\n",
      "tizv2teaxh-sagemaker-local  |     \"output_dir\": \"/opt/ml/output\",\n",
      "tizv2teaxh-sagemaker-local  |     \"output_intermediate_dir\": \"/opt/ml/output/intermediate\",\n",
      "tizv2teaxh-sagemaker-local  |     \"resource_config\": {\n",
      "tizv2teaxh-sagemaker-local  |         \"current_host\": \"sagemaker-local\",\n",
      "tizv2teaxh-sagemaker-local  |         \"hosts\": [\n",
      "tizv2teaxh-sagemaker-local  |             \"sagemaker-local\"\n",
      "tizv2teaxh-sagemaker-local  |         ]\n",
      "tizv2teaxh-sagemaker-local  |     },\n",
      "tizv2teaxh-sagemaker-local  |     \"user_entry_point\": \"train.py\"\n",
      "tizv2teaxh-sagemaker-local  | }\n",
      "tizv2teaxh-sagemaker-local  | \n",
      "tizv2teaxh-sagemaker-local  | Environment variables:\n",
      "tizv2teaxh-sagemaker-local  | \n",
      "tizv2teaxh-sagemaker-local  | SM_HOSTS=[\"sagemaker-local\"]\n",
      "tizv2teaxh-sagemaker-local  | SM_NETWORK_INTERFACE_NAME=eth0\n",
      "tizv2teaxh-sagemaker-local  | SM_HPS={\"fit-intercept\":true,\"normalize\":false}\n",
      "tizv2teaxh-sagemaker-local  | SM_USER_ENTRY_POINT=train.py\n",
      "tizv2teaxh-sagemaker-local  | SM_FRAMEWORK_PARAMS={}\n",
      "tizv2teaxh-sagemaker-local  | SM_RESOURCE_CONFIG={\"current_host\":\"sagemaker-local\",\"hosts\":[\"sagemaker-local\"]}\n",
      "tizv2teaxh-sagemaker-local  | SM_INPUT_DATA_CONFIG={\"train\":{\"TrainingInputMode\":\"File\"}}\n",
      "tizv2teaxh-sagemaker-local  | SM_OUTPUT_DATA_DIR=/opt/ml/output/data\n",
      "tizv2teaxh-sagemaker-local  | SM_CHANNELS=[\"train\"]\n",
      "tizv2teaxh-sagemaker-local  | SM_CURRENT_HOST=sagemaker-local\n",
      "tizv2teaxh-sagemaker-local  | SM_CURRENT_INSTANCE_TYPE=local\n",
      "tizv2teaxh-sagemaker-local  | SM_CURRENT_INSTANCE_GROUP=homogeneousCluster\n",
      "tizv2teaxh-sagemaker-local  | SM_CURRENT_INSTANCE_GROUP_HOSTS=[]\n",
      "tizv2teaxh-sagemaker-local  | SM_INSTANCE_GROUPS=[]\n",
      "tizv2teaxh-sagemaker-local  | SM_INSTANCE_GROUPS_DICT={}\n",
      "tizv2teaxh-sagemaker-local  | SM_DISTRIBUTION_INSTANCE_GROUPS=[]\n",
      "tizv2teaxh-sagemaker-local  | SM_IS_HETERO=false\n",
      "tizv2teaxh-sagemaker-local  | SM_MODULE_NAME=train\n",
      "tizv2teaxh-sagemaker-local  | SM_LOG_LEVEL=20\n",
      "tizv2teaxh-sagemaker-local  | SM_FRAMEWORK_MODULE=sagemaker_sklearn_container.training:main\n",
      "tizv2teaxh-sagemaker-local  | SM_INPUT_DIR=/opt/ml/input\n",
      "tizv2teaxh-sagemaker-local  | SM_INPUT_CONFIG_DIR=/opt/ml/input/config\n",
      "tizv2teaxh-sagemaker-local  | SM_OUTPUT_DIR=/opt/ml/output\n",
      "tizv2teaxh-sagemaker-local  | SM_NUM_CPUS=2\n",
      "tizv2teaxh-sagemaker-local  | SM_NUM_GPUS=0\n",
      "tizv2teaxh-sagemaker-local  | SM_NUM_NEURONS=0\n",
      "tizv2teaxh-sagemaker-local  | SM_MODEL_DIR=/opt/ml/model\n",
      "tizv2teaxh-sagemaker-local  | SM_MODULE_DIR=s3://apartment-pricing/sagemaker-scikit-learn-2024-12-02-06-30-30-682/source/sourcedir.tar.gz\n",
      "tizv2teaxh-sagemaker-local  | SM_TRAINING_ENV={\"additional_framework_parameters\":{},\"channel_input_dirs\":{\"train\":\"/opt/ml/input/data/train\"},\"current_host\":\"sagemaker-local\",\"current_instance_group\":\"homogeneousCluster\",\"current_instance_group_hosts\":[],\"current_instance_type\":\"local\",\"distribution_hosts\":[\"sagemaker-local\"],\"distribution_instance_groups\":[],\"framework_module\":\"sagemaker_sklearn_container.training:main\",\"hosts\":[\"sagemaker-local\"],\"hyperparameters\":{\"fit-intercept\":true,\"normalize\":false},\"input_config_dir\":\"/opt/ml/input/config\",\"input_data_config\":{\"train\":{\"TrainingInputMode\":\"File\"}},\"input_dir\":\"/opt/ml/input\",\"instance_groups\":[],\"instance_groups_dict\":{},\"is_hetero\":false,\"is_master\":true,\"is_modelparallel_enabled\":null,\"is_smddpmprun_installed\":false,\"is_smddprun_installed\":false,\"job_name\":\"sagemaker-scikit-learn-2024-12-02-06-30-30-682\",\"log_level\":20,\"master_hostname\":\"sagemaker-local\",\"model_dir\":\"/opt/ml/model\",\"module_dir\":\"s3://apartment-pricing/sagemaker-scikit-learn-2024-12-02-06-30-30-682/source/sourcedir.tar.gz\",\"module_name\":\"train\",\"network_interface_name\":\"eth0\",\"num_cpus\":2,\"num_gpus\":0,\"num_neurons\":0,\"output_data_dir\":\"/opt/ml/output/data\",\"output_dir\":\"/opt/ml/output\",\"output_intermediate_dir\":\"/opt/ml/output/intermediate\",\"resource_config\":{\"current_host\":\"sagemaker-local\",\"hosts\":[\"sagemaker-local\"]},\"user_entry_point\":\"train.py\"}\n",
      "tizv2teaxh-sagemaker-local  | SM_USER_ARGS=[\"--fit-intercept\",\"True\",\"--normalize\",\"False\"]\n",
      "tizv2teaxh-sagemaker-local  | SM_OUTPUT_INTERMEDIATE_DIR=/opt/ml/output/intermediate\n",
      "tizv2teaxh-sagemaker-local  | SM_CHANNEL_TRAIN=/opt/ml/input/data/train\n",
      "tizv2teaxh-sagemaker-local  | SM_HP_FIT-INTERCEPT=true\n",
      "tizv2teaxh-sagemaker-local  | SM_HP_NORMALIZE=false\n",
      "tizv2teaxh-sagemaker-local  | PYTHONPATH=/opt/ml/code:/miniconda3/bin:/miniconda3/lib/python38.zip:/miniconda3/lib/python3.8:/miniconda3/lib/python3.8/lib-dynload:/miniconda3/lib/python3.8/site-packages\n",
      "tizv2teaxh-sagemaker-local  | \n",
      "tizv2teaxh-sagemaker-local  | Invoking script with the following command:\n",
      "tizv2teaxh-sagemaker-local  | \n",
      "tizv2teaxh-sagemaker-local  | /miniconda3/bin/python train.py --fit-intercept True --normalize False\n",
      "tizv2teaxh-sagemaker-local  | \n",
      "tizv2teaxh-sagemaker-local  | \n",
      "tizv2teaxh-sagemaker-local  | 2024-12-02 06:32:25,406 sagemaker-training-toolkit INFO     Exceptions not imported for SageMaker Debugger as it is not installed.\n",
      "tizv2teaxh-sagemaker-local  | 2024-12-02 06:32:25,406 sagemaker-training-toolkit INFO     Exceptions not imported for SageMaker TF as Tensorflow is not installed.\n",
      "tizv2teaxh-sagemaker-local  | /miniconda3/lib/python3.8/site-packages/sklearn/linear_model/_base.py:141: FutureWarning: 'normalize' was deprecated in version 1.0 and will be removed in 1.2.\n",
      "tizv2teaxh-sagemaker-local  | If you wish to scale the data, use Pipeline with a StandardScaler in a preprocessing stage. To reproduce the previous behavior:\n",
      "tizv2teaxh-sagemaker-local  | \n",
      "tizv2teaxh-sagemaker-local  | from sklearn.pipeline import make_pipeline\n",
      "tizv2teaxh-sagemaker-local  | \n",
      "tizv2teaxh-sagemaker-local  | model = make_pipeline(StandardScaler(with_mean=False), LinearRegression())\n",
      "tizv2teaxh-sagemaker-local  | \n",
      "tizv2teaxh-sagemaker-local  | If you wish to pass a sample_weight parameter, you need to pass it as a fit parameter to each step of the pipeline as follows:\n",
      "tizv2teaxh-sagemaker-local  | \n",
      "tizv2teaxh-sagemaker-local  | kwargs = {s[0] + '__sample_weight': sample_weight for s in model.steps}\n",
      "tizv2teaxh-sagemaker-local  | model.fit(X, y, **kwargs)\n",
      "tizv2teaxh-sagemaker-local  | \n",
      "tizv2teaxh-sagemaker-local  | \n",
      "tizv2teaxh-sagemaker-local  |   warnings.warn(\n",
      "tizv2teaxh-sagemaker-local  | Validation Mean Squared Error: 63666.84600811705\n"
     ]
    },
    {
     "name": "stderr",
     "output_type": "stream",
     "text": [
      "INFO:root:creating /home/sagemaker-user/tmp/tmpgvmr38ng/artifacts/output/data\n",
      "INFO:root:copying /home/sagemaker-user/tmp/tmpgvmr38ng/sagemaker-local/output/success -> /home/sagemaker-user/tmp/tmpgvmr38ng/artifacts/output\n",
      "INFO:root:copying /home/sagemaker-user/tmp/tmpgvmr38ng/model/model.joblib -> /home/sagemaker-user/tmp/tmpgvmr38ng/artifacts/model\n"
     ]
    },
    {
     "name": "stdout",
     "output_type": "stream",
     "text": [
      "tizv2teaxh-sagemaker-local  | 2024-12-02 06:32:27,041 sagemaker-containers INFO     Reporting training SUCCESS\n",
      "\u001b[Ktizv2teaxh-sagemaker-local exited with code 0\n",
      "Aborting on container exit...\n",
      " Container tizv2teaxh-sagemaker-local  Stopping\n",
      " Container tizv2teaxh-sagemaker-local  Stopped\n"
     ]
    },
    {
     "name": "stderr",
     "output_type": "stream",
     "text": [
      "INFO:sagemaker.local.image:===== Job Complete =====\n"
     ]
    }
   ],
   "source": [
    "import sagemaker\n",
    "from sagemaker.sklearn.estimator import SKLearn\n",
    "from sagemaker import get_execution_role\n",
    "\n",
    "# Define S3 paths\n",
    "bucket = \"apartment-pricing\"\n",
    "prefix = \"TrainData\"\n",
    "train_input = f\"s3://{bucket}/{prefix}/\"\n",
    "output_path=f\"s3://apartment-pricing/model/linear_regression/\"\n",
    "\n",
    "# Get SageMaker execution role\n",
    "role = get_execution_role()\n",
    "\n",
    "# Create SKLearn Estimator\n",
    "sklearn_estimator = SKLearn(\n",
    "    entry_point=\"train.py\",\n",
    "    framework_version=\"1.0-1\",  # Change based on available versions\n",
    "    # instance_type=\"ml.m5.large\",\n",
    "    instance_type=\"local\",\n",
    "    instance_count=1,\n",
    "    role=role,\n",
    "    sagemaker_session=sagemaker.LocalSession(),\n",
    "    # sagemaker_session=sagemaker.Session(),\n",
    "    output_path=output_path,\n",
    "    hyperparameters={\n",
    "        \"fit-intercept\": True,\n",
    "        \"normalize\": False,\n",
    "    },\n",
    ")\n",
    "\n",
    "# Launch training job\n",
    "sklearn_estimator.fit({\"train\": train_input})\n"
   ]
  },
  {
   "cell_type": "code",
   "execution_count": 6,
   "id": "40cfa9fc-3136-4e1e-ba31-841c006716af",
   "metadata": {},
   "outputs": [
    {
     "name": "stderr",
     "output_type": "stream",
     "text": [
      "INFO:sagemaker:Creating model with name: sagemaker-scikit-learn-2024-12-01-23-30-09-659\n",
      "INFO:sagemaker:Creating endpoint-config with name sagemaker-scikit-learn-2024-12-01-23-30-09-659\n",
      "INFO:sagemaker:Creating endpoint with name sagemaker-scikit-learn-2024-12-01-23-30-09-659\n"
     ]
    },
    {
     "name": "stdout",
     "output_type": "stream",
     "text": [
      "------!"
     ]
    }
   ],
   "source": [
    "# Deploy the trained model\n",
    "predictor = sklearn_estimator.deploy(\n",
    "    initial_instance_count=1,\n",
    "    instance_type=\"ml.m5.large\",\n",
    ")"
   ]
  },
  {
   "cell_type": "code",
   "execution_count": 9,
   "id": "280731e9-5b40-4163-a24e-5480b9cba2d5",
   "metadata": {},
   "outputs": [
    {
     "name": "stdout",
     "output_type": "stream",
     "text": [
      "Prediction: [3155.70433793]\n"
     ]
    }
   ],
   "source": [
    "# Use the endpoint to make predictions\n",
    "data = [[859, 3, 3, 1, 0, 0, 2, 10, 8.5]]  # Example input\n",
    "prediction = predictor.predict(data)\n",
    "print(f\"Prediction: {prediction}\")"
   ]
  },
  {
   "cell_type": "code",
   "execution_count": 1,
   "id": "318d99cd-d24b-4a7b-9c10-6038b8e7a18c",
   "metadata": {},
   "outputs": [
    {
     "ename": "NameError",
     "evalue": "name 'predictor' is not defined",
     "output_type": "error",
     "traceback": [
      "\u001b[0;31m---------------------------------------------------------------------------\u001b[0m",
      "\u001b[0;31mNameError\u001b[0m                                 Traceback (most recent call last)",
      "Cell \u001b[0;32mIn[1], line 1\u001b[0m\n\u001b[0;32m----> 1\u001b[0m \u001b[43mpredictor\u001b[49m\u001b[38;5;241m.\u001b[39mdelete_endpoint()\n",
      "\u001b[0;31mNameError\u001b[0m: name 'predictor' is not defined"
     ]
    }
   ],
   "source": [
    "predictor.delete_endpoint()"
   ]
  },
  {
   "cell_type": "code",
   "execution_count": null,
   "id": "4b641b08-83b5-4f88-a26b-1d8c15b1c491",
   "metadata": {},
   "outputs": [],
   "source": []
  }
 ],
 "metadata": {
  "kernelspec": {
   "display_name": "Python 3 (ipykernel)",
   "language": "python",
   "name": "python3"
  },
  "language_info": {
   "codemirror_mode": {
    "name": "ipython",
    "version": 3
   },
   "file_extension": ".py",
   "mimetype": "text/x-python",
   "name": "python",
   "nbconvert_exporter": "python",
   "pygments_lexer": "ipython3",
   "version": "3.11.10"
  }
 },
 "nbformat": 4,
 "nbformat_minor": 5
}
