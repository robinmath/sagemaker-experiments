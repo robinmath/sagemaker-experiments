{
 "cells": [
  {
   "cell_type": "code",
   "execution_count": 1,
   "id": "623f7d4f-445a-4303-b926-054e23410c12",
   "metadata": {
    "kernelspec": {
     "display_name": "SparkMagic PySpark",
     "language": "python",
     "name": "pysparkkernel"
    },
    "language_info": {
     "codemirror_mode": {
      "name": "python",
      "version": 3
     },
     "file_extension": ".py",
     "mimetype": "text/x-python",
     "name": "pyspark",
     "pygments_lexer": "python3"
    }
   },
   "outputs": [
    {
     "name": "stdout",
     "output_type": "stream",
     "text": [
      "Waiting for EMR Serverless application state to become STARTED\n",
      "Waiting for EMR Serverless application state to become STARTED\n",
      "Initiating EMR Serverless connection..\n",
      "Starting Spark application\n"
     ]
    },
    {
     "data": {
      "text/html": [
       "<table>\n",
       "<tr><th>ID</th><th>YARN Application ID</th><th>Kind</th><th>State</th><th>Spark UI</th><th>Driver log</th><th>User</th><th>Current session?</th></tr><tr><td>0</td><td>00fo66516l1ehh0a</td><td>pyspark</td><td>idle</td><td><a target=\"_blank\" href=\"https://j-00fo66516l1ehh0a.dashboard.emr-serverless.us-east-1.amazonaws.com/?authToken=eDAxxzO8FqjpZ2MC1SMfS3iYn0oCmXp8rAgTE9uk9v9v6P84S0jMh1WNQUa_61I2DhE3QhgC_wDr0Hxq1KUkeJDW20ubaMi1F-TEoOF_EE6jddOqxq_9tfj1HSLAE49r72R9X9zKaKyo2JTQWCjhvOhaI-sB8kGtkUQsASXZZWt3Wpn3nvsD0e8dvMIn_ZiBPssMYrAtnqJ61UAfuNCXAUSOHZ6SluJxnBsFM8sKqRQ2dnlCutNQjdabGUNspEEMXiZiQYaV7Qz8FY6mKuoJCwrpzEf_OTAC3UQ9kop1hbLo7Nlzp6frPp64nV8wlykimXin2RpAdVQszO84QlZSWtm2fdB3iI62yh1mJja3QcT-q18qIyBzIFC6j8VmtdLR4Ls2Jzvv70-yQLL0X-_GURDPQAs0Hb2Fm4ZMms9QBkmrYg677KfUEVANVkb3eCQMTVnRCbv9B4sXdTZL8SXxa6wWVnF103didVgaCBaeRzi4sI518BVsSOyRwYAsQIH0yoKvK77y7vlqI6z4NyzBd-N_CZayJ0zuA2IuOrl6iw6WTnO3anezhW2ciAmKI9Fi9JHehwoeKoItmFOcTkKK-HvKTZnlZwE60eyAcfpF2Pm-DtZrSZqpNWKA0KSUvA1Dp7p4NS-OeucJz57MoCJZXbgyTqbyyThwJyByIgjQ62s1q1Yx02ufeXtGRvMD_97sLdEKqGwpHJtuakGeCTqeJ_wNUD7whFSMgJMr-ZWWSdJyEN_l7LsK8NsWYA9YsdvPj1jYoAKDuqt3yxxODvsiws6fInmWiXETXcvi2aW1GaOcsE9htTrWs_Fq0RvmouuyFXyIWh-O0nfjgabFGlmrEjDQ4Ghkqhs2xiRouHjm6if3otP_ZxyNws-RgOJg9Y5gamDla2-WyqAhR2AmZppZHKf-lI7Sd7wHW0N7juWY4UGPz7i0FJufgn4vcYu9iSlSHiY.eyJraWQiOiJBUUlCQUhnTVJ1MlZyR2FFajR3bTc2dEZqMThGMUsyVFdZbkk4WXpxS0lRamg5YTZHZ0V4blFlbnA5SXNVYTQ2U1k2cFh6QUZBQUFBb2pDQm53WUpLb1pJaHZjTkFRY0dvSUdSTUlHT0FnRUFNSUdJQmdrcWhraUc5dzBCQndFd0hnWUpZSVpJQVdVREJBRXVNQkVFREZBenROdVZzVkNEd3JDOWR3SUJFSUJibEdxWHJENDlZOVJyV3Y2allDV0RoR1RkTWFkSUV5S0ExNFo2NkZoQjZBbXdveE5XbEFVRVdhWU96d0ZGV3VrRmNnQ2JaOE1hdW1sMlhNOVFkem5kVnNXVTFGQ1lvbEhOUTMvY2hPbmMrM1JtRENkUVNGRUJNSmVVZUE9PSJ9\">Link</a></td><td><a target=\"_blank\" href=\"https://j-00fo66516l1ehh0a.dashboard.emr-serverless.us-east-1.amazonaws.com/logs/SPARK_DRIVER/stderr.gz?authToken=eDAx4Gc3osnklVYsiZzIYKIZu1ZNTbOdQ0R_Tc6iiU1hkorTKeR-9lAYI4_IzyV_qXz8NbO3O5DVJJ3lKEUfWCOD8KFearIWHp9jrJhlSEFXLzy_diIZEohjvnWHrHOq2gcXfWT1WLOgDEQ39_NVqaP8SP-kGtACbaNzXUe0afE4fPGAM5x3kwoIqbeq5UEZM2Bw68lRncA8Yanwb1AbgMfy1CXn40zErpf2JknuHgEaTNgBuBMpf6aHybNoyrePUNnT8Odkrej2mQ_qo3ZaP8Lh_m6hamiWxrAUofpjccMRBmKGWD4dc3UzlPnujWsmGfoji6OpexkIT47gAjxgkI6gh0f9Tg7oy2gRanwyBUV2qvxd6WAy4awY9lnJdwTeLzc1b23oCtS5fGIpBt2GjxrMfLXaBdOGyFeTwXnH81WqYMDkM59qeua-hwDuSmQ1wGr6exoRQcFGns3vQx6LZRfuhY5CjXRafah-3lcYxxliUaJHDW3eOu0SklDXqeLGV5W3932Ymcq9l6Q0A97oEBiqmy577BIMSxYNldzrdHhHeiZc4NHQVUvgbYoVhgNVmJS04yc-d-mA0gUewMdWFfB73z3_vH9cAuIo2aY9FS_QKDN3WIAAuf0mcbzDSR2irF3eadAJTxTL1vYeepnGwp7T6aAK42-9H3almwwhLBcRKVHJoV5j1Eo4vczYoEl9pO8H2cSTP4utREORsujs8B_4E6iZzrHYogNenn92xmFHyyA-ZYuoAjzXAG2aWzVTu1LZWPM0BAWWG5IQRRf_qRhfZBzv5U-L2GMTnDAR1xYC3M0WO6ksNAlj1uRhq3J5y0wbG7_UPvIO2OGMIeUN89lZMNNOBlBfCsRuCKmrxlKCeOvekM-zWbq1YhcSeXGwfcM1lQAKAnJCzJZ-CfVOqE6j6dffR9cmIcxCcYsXvndDQuB1vwUiPFXdqRCdpzKXEUw.eyJraWQiOiJBUUlCQUhnTVJ1MlZyR2FFajR3bTc2dEZqMThGMUsyVFdZbkk4WXpxS0lRamg5YTZHZ0V4blFlbnA5SXNVYTQ2U1k2cFh6QUZBQUFBb2pDQm53WUpLb1pJaHZjTkFRY0dvSUdSTUlHT0FnRUFNSUdJQmdrcWhraUc5dzBCQndFd0hnWUpZSVpJQVdVREJBRXVNQkVFREZBenROdVZzVkNEd3JDOWR3SUJFSUJibEdxWHJENDlZOVJyV3Y2allDV0RoR1RkTWFkSUV5S0ExNFo2NkZoQjZBbXdveE5XbEFVRVdhWU96d0ZGV3VrRmNnQ2JaOE1hdW1sMlhNOVFkem5kVnNXVTFGQ1lvbEhOUTMvY2hPbmMrM1JtRENkUVNGRUJNSmVVZUE9PSJ9\">Link</a></td><td>None</td><td>✔</td></tr></table>"
      ],
      "text/plain": [
       "<IPython.core.display.HTML object>"
      ]
     },
     "metadata": {},
     "output_type": "display_data"
    },
    {
     "data": {
      "application/vnd.jupyter.widget-view+json": {
       "model_id": "",
       "version_major": 2,
       "version_minor": 0
      },
      "text/plain": [
       "FloatProgress(value=0.0, bar_style='info', description='Progress:', layout=Layout(height='25px', width='50%'),…"
      ]
     },
     "metadata": {},
     "output_type": "display_data"
    },
    {
     "name": "stdout",
     "output_type": "stream",
     "text": [
      "SparkSession available as 'spark'.\n"
     ]
    }
   ],
   "source": [
    "%load_ext sagemaker_studio_analytics_extension.magics\n",
    "%sm_analytics emr-serverless connect --application-id 00fo38nsirh68609 --language python --emr-execution-role-arn arn:aws:iam::442426877041:role/service-role/AmazonEMRStudio_RuntimeRole_1731016215290"
   ]
  },
  {
   "cell_type": "markdown",
   "id": "68d84ac8-759b-4dcc-a5a3-3bdc37b66767",
   "metadata": {},
   "source": [
    "no need of: from pyspark.sql import SparkSession\n",
    "\n",
    "it happens above automatically"
   ]
  },
  {
   "cell_type": "code",
   "execution_count": 2,
   "id": "3b13c9df-ad83-48b9-ade4-14c168582f89",
   "metadata": {},
   "outputs": [
    {
     "data": {
      "application/vnd.jupyter.widget-view+json": {
       "model_id": "",
       "version_major": 2,
       "version_minor": 0
      },
      "text/plain": [
       "FloatProgress(value=0.0, bar_style='info', description='Progress:', layout=Layout(height='25px', width='50%'),…"
      ]
     },
     "metadata": {},
     "output_type": "display_data"
    },
    {
     "name": "stdout",
     "output_type": "stream",
     "text": [
      "Preprocessed data written to s3://apartment-pricing/preprocessed/data/parquet/\n",
      "+-------------+--------+------------+----------+------------+----------+-----------------------+-------------------+------------+---------+\n",
      "|squarefootage|numrooms|numbathrooms|hasbalcony|hasgymaccess|hasparking|neighborhoodsafetyindex|          walkscore|schoolrating|     rent|\n",
      "+-------------+--------+------------+----------+------------+----------+-----------------------+-------------------+------------+---------+\n",
      "|          400|       4|           2|         0|           0|         1|              8.9200001| 6.4000000000000004|         2.3|3249.9299|\n",
      "|          400|       4|           2|         0|           0|         1|              8.9200001| 6.4000000000000004|         2.3|3249.9299|\n",
      "|          400|       3|           3|         0|           0|         0|                   1.72|                7.5|         1.9|2741.3301|\n",
      "|          400|       4|           3|         1|           0|         1|              8.8699999|0.40000000000000002|   5.0999999|   3038.7|\n",
      "|          400|       4|           3|         1|           0|         1|              8.8699999|0.40000000000000002|   5.0999999|   3038.7|\n",
      "|          400|       5|           3|         0|           1|         0|                     10|                1.5|         4.5|  3987.75|\n",
      "|          400|       2|           3|         0|           0|         1|                   1.71|0.69999999999999996|   7.3000002|2492.1101|\n",
      "|          400|       4|           2|         0|           0|         1|              8.9200001| 6.4000000000000004|         2.3|3249.9299|\n",
      "|          400|       3|           3|         0|           0|         0|                   1.72|                7.5|         1.9|2741.3301|\n",
      "|          400|       5|           3|         1|           1|         1|              5.3600001| 8.0999999999999996|         2.8|   3350.7|\n",
      "|          400|       4|           2|         0|           0|         1|              8.9200001| 6.4000000000000004|         2.3|3249.9299|\n",
      "|          400|       4|           2|         0|           0|         1|              8.9200001| 6.4000000000000004|         2.3|3249.9299|\n",
      "|          400|       4|           2|         0|           0|         1|              8.9200001| 6.4000000000000004|         2.3|3249.9299|\n",
      "|          400|       3|           3|         0|           0|         0|                   1.72|                7.5|         1.9|2741.3301|\n",
      "|          400|       5|           3|         1|           1|         1|              5.3600001| 8.0999999999999996|         2.8|   3350.7|\n",
      "|          400|       4|           2|         0|           0|         1|              8.9200001| 6.4000000000000004|         2.3|3249.9299|\n",
      "|          400|       5|           3|         0|           1|         0|                     10|                1.5|         4.5|  3987.75|\n",
      "|          400|       5|           3|         1|           1|         1|              5.3600001| 8.0999999999999996|         2.8|   3350.7|\n",
      "|          400|       5|           3|         0|           1|         0|                     10|                1.5|         4.5|  3987.75|\n",
      "|          400|       3|           3|         0|           0|         0|                   1.72|                7.5|         1.9|2741.3301|\n",
      "+-------------+--------+------------+----------+------------+----------+-----------------------+-------------------+------------+---------+\n",
      "only showing top 20 rows"
     ]
    }
   ],
   "source": [
    "import boto3\n",
    "import json\n",
    "from urllib.parse import quote_plus\n",
    "from pyspark.sql.functions import col\n",
    "\n",
    "# Fetch the secret\n",
    "secretsmanager_client = boto3.client('secretsmanager', region_name='us-east-1')  # Specify your region\n",
    "secret_response = secretsmanager_client.get_secret_value(SecretId=\"redshift!default-namespace-admin\")\n",
    "\n",
    "# Parse the SecretString\n",
    "credentials = json.loads(secret_response['SecretString'])\n",
    "\n",
    "# Extract username and password\n",
    "username = credentials['username']\n",
    "password = credentials['password']\n",
    "\n",
    "encoded_password = quote_plus(password)\n",
    "\n",
    "# Configuration options\n",
    "jdbc_url = f\"jdbc:redshift://default-workgroup.442426877041.us-east-1.redshift-serverless.amazonaws.com:5439/re-pricing-db?user={username}&password={encoded_password}\"\n",
    "aws_iam_role_arn = \"arn:aws:iam::442426877041:role/service-role/AmazonRedshift-CommandsAccessRole-20241009T164003\"\n",
    "\n",
    "s3_temp_dir = \"s3://apartment-pricing/temp/\"\n",
    "output_s3_path = \"s3://apartment-pricing/preprocessed/data/parquet/\"\n",
    "\n",
    "# SQL query to execute\n",
    "query = \"\"\"SELECT * FROM \"train-db\".rental_pricing_table\"\"\"\n",
    "\n",
    "# Read from Redshift\n",
    "df = spark.read \\\n",
    "    .format(\"io.github.spark_redshift_community.spark.redshift\") \\\n",
    "    .option(\"url\", jdbc_url) \\\n",
    "    .option(\"query\", query) \\\n",
    "    .option(\"tempdir\", s3_temp_dir) \\\n",
    "    .option(\"aws_iam_role\", aws_iam_role_arn) \\\n",
    "    .load()\n",
    "\n",
    "\n",
    "df = df.withColumn(\"walkscore\", col(\"walkscore\") / 10)\n",
    "\n",
    "# Save preprocessed data to S3\n",
    "df.write.parquet(output_s3_path, mode=\"overwrite\")\n",
    "print(f\"Preprocessed data written to {output_s3_path}\")\n",
    "\n",
    "\n",
    "df.show()"
   ]
  },
  {
   "cell_type": "code",
   "execution_count": 3,
   "id": "52849ace-67bb-4917-918d-972e408e4bd7",
   "metadata": {},
   "outputs": [
    {
     "data": {
      "application/vnd.jupyter.widget-view+json": {
       "model_id": "",
       "version_major": 2,
       "version_minor": 0
      },
      "text/plain": [
       "FloatProgress(value=0.0, bar_style='info', description='Progress:', layout=Layout(height='25px', width='50%'),…"
      ]
     },
     "metadata": {},
     "output_type": "display_data"
    },
    {
     "name": "stdout",
     "output_type": "stream",
     "text": [
      "655360000"
     ]
    }
   ],
   "source": [
    "df.count()"
   ]
  },
  {
   "cell_type": "code",
   "execution_count": 4,
   "id": "4362774b-1aec-470f-8189-6cd53ce3dfb1",
   "metadata": {},
   "outputs": [
    {
     "data": {
      "application/vnd.jupyter.widget-view+json": {
       "model_id": "",
       "version_major": 2,
       "version_minor": 0
      },
      "text/plain": [
       "FloatProgress(value=0.0, bar_style='info', description='Progress:', layout=Layout(height='25px', width='50%'),…"
      ]
     },
     "metadata": {},
     "output_type": "display_data"
    },
    {
     "name": "stdout",
     "output_type": "stream",
     "text": [
      "Mean of walkscore: 4.944520000008283"
     ]
    }
   ],
   "source": [
    "from pyspark.sql.functions import avg\n",
    "\n",
    "mean_walkscore = df.select(avg(\"walkscore\")).collect()[0][0]\n",
    "print(f\"Mean of walkscore: {mean_walkscore}\")\n"
   ]
  }
 ],
 "metadata": {
  "kernelspec": {
   "display_name": "SparkMagic PySpark",
   "language": "python",
   "name": "pysparkkernel"
  },
  "language_info": {
   "codemirror_mode": {
    "name": "python",
    "version": 3
   },
   "file_extension": ".py",
   "mimetype": "text/x-python",
   "name": "pyspark",
   "pygments_lexer": "python3"
  }
 },
 "nbformat": 4,
 "nbformat_minor": 5
}
