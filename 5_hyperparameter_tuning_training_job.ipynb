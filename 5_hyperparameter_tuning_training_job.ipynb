{
 "cells": [
  {
   "cell_type": "code",
   "execution_count": 57,
   "id": "2a7261c0-8411-4094-8e3d-2e1d2b0e342b",
   "metadata": {},
   "outputs": [
    {
     "name": "stdout",
     "output_type": "stream",
     "text": [
      "Overwriting train_iris.py\n"
     ]
    }
   ],
   "source": [
    "%%writefile train_iris.py\n",
    "\n",
    "import argparse\n",
    "import json\n",
    "import random\n",
    "import os\n",
    "from sklearn.ensemble import RandomForestClassifier\n",
    "from sklearn.metrics import f1_score\n",
    "from sklearn.model_selection import train_test_split\n",
    "from sklearn.datasets import load_iris\n",
    "\n",
    "def main():\n",
    "    # Parse arguments\n",
    "    parser = argparse.ArgumentParser()\n",
    "    parser.add_argument('--n_estimators', type=int, default=10)\n",
    "    parser.add_argument('--max_depth', type=int, default=None)\n",
    "    args = parser.parse_args()\n",
    "\n",
    "    # Load dataset\n",
    "    data = load_iris()\n",
    "    X_train, X_test, y_train, y_test = train_test_split(data.data, data.target, test_size=0.2, random_state=42)\n",
    "\n",
    "    # Train model\n",
    "    model = RandomForestClassifier(n_estimators=args.n_estimators, max_depth=args.max_depth)\n",
    "    model.fit(X_train, y_train)\n",
    "\n",
    "    # Evaluate model\n",
    "    y_pred = model.predict(X_test)\n",
    "    f1 = f1_score(y_test, y_pred, average='macro')\n",
    "\n",
    "    # Log the F1 score for SageMaker HPO\n",
    "    print(f\"#quality_metric: host=unknown, train f1_score <score>={f1}\")\n",
    "    \n",
    "    # Log the F1 score for SageMaker HPO - to mimic validation for objective metric\n",
    "    # Generate random f1_score between 0 and 1 (you can adjust the range as needed)\n",
    "    valid_f1 = random.uniform(0, 1)\n",
    "    print(f\"#quality_metric: host=unknown, valid f1_score <score>={valid_f1}\")\n",
    "\n",
    "if __name__ == \"__main__\":\n",
    "    main()\n"
   ]
  },
  {
   "cell_type": "code",
   "execution_count": 37,
   "id": "a1f0eda5-f135-4877-99e6-853981ea0cf1",
   "metadata": {},
   "outputs": [],
   "source": [
    "## usual ONE training job without any hyperparameter tuning job as parent\n",
    "\n",
    "import sagemaker\n",
    "from sagemaker.sklearn import SKLearn\n",
    "from sagemaker import get_execution_role\n",
    "\n",
    "# Get SageMaker execution role\n",
    "role = get_execution_role()\n",
    "\n",
    "output_path = \"s3://apartment-pricing/model/random_forest/\"\n",
    "\n",
    "sklearn_estimator = SKLearn(\n",
    "    entry_point=\"train_iris.py\",\n",
    "    role=role,\n",
    "    instance_count=1,\n",
    "    instance_type=\"ml.m5.xlarge\",\n",
    "    hyperparameters={\n",
    "        \"max_depth\": 10,\n",
    "        \"n_estimators\": 10,\n",
    "    },\n",
    "    output_path=output_path,\n",
    "    framework_version=\"0.23-1\",\n",
    ")\n"
   ]
  },
  {
   "cell_type": "code",
   "execution_count": 38,
   "id": "7cc1854b-49ef-40f5-8ddd-0c4763f9207a",
   "metadata": {},
   "outputs": [
    {
     "name": "stderr",
     "output_type": "stream",
     "text": [
      "INFO:sagemaker:Creating training-job with name: sagemaker-scikit-learn-2024-12-04-22-04-47-650\n"
     ]
    },
    {
     "name": "stdout",
     "output_type": "stream",
     "text": [
      "2024-12-04 22:04:49 Starting - Starting the training job...\n",
      "2024-12-04 22:05:04 Starting - Preparing the instances for training...\n",
      "2024-12-04 22:05:36 Downloading - Downloading input data...\n",
      "2024-12-04 22:05:56 Downloading - Downloading the training image...\n",
      "2024-12-04 22:06:47 Training - Training image download completed. Training in progress.\n",
      "2024-12-04 22:06:47 Uploading - Uploading generated training model\u001b[34m2024-12-04 22:06:38,299 sagemaker-containers INFO     Imported framework sagemaker_sklearn_container.training\u001b[0m\n",
      "\u001b[34m2024-12-04 22:06:38,303 sagemaker-training-toolkit INFO     No GPUs detected (normal if no gpus installed)\u001b[0m\n",
      "\u001b[34m2024-12-04 22:06:38,351 sagemaker_sklearn_container.training INFO     Invoking user training script.\u001b[0m\n",
      "\u001b[34m2024-12-04 22:06:38,510 sagemaker-training-toolkit INFO     No GPUs detected (normal if no gpus installed)\u001b[0m\n",
      "\u001b[34m2024-12-04 22:06:38,523 sagemaker-training-toolkit INFO     No GPUs detected (normal if no gpus installed)\u001b[0m\n",
      "\u001b[34m2024-12-04 22:06:38,536 sagemaker-training-toolkit INFO     No GPUs detected (normal if no gpus installed)\u001b[0m\n",
      "\u001b[34m2024-12-04 22:06:38,545 sagemaker-training-toolkit INFO     Invoking user script\u001b[0m\n",
      "\u001b[34mTraining Env:\u001b[0m\n",
      "\u001b[34m{\n",
      "    \"additional_framework_parameters\": {},\n",
      "    \"channel_input_dirs\": {},\n",
      "    \"current_host\": \"algo-1\",\n",
      "    \"framework_module\": \"sagemaker_sklearn_container.training:main\",\n",
      "    \"hosts\": [\n",
      "        \"algo-1\"\n",
      "    ],\n",
      "    \"hyperparameters\": {\n",
      "        \"max_depth\": 10,\n",
      "        \"n_estimators\": 10\n",
      "    },\n",
      "    \"input_config_dir\": \"/opt/ml/input/config\",\n",
      "    \"input_data_config\": {},\n",
      "    \"input_dir\": \"/opt/ml/input\",\n",
      "    \"is_master\": true,\n",
      "    \"job_name\": \"sagemaker-scikit-learn-2024-12-04-22-04-47-650\",\n",
      "    \"log_level\": 20,\n",
      "    \"master_hostname\": \"algo-1\",\n",
      "    \"model_dir\": \"/opt/ml/model\",\n",
      "    \"module_dir\": \"s3://apartment-pricing/sagemaker-scikit-learn-2024-12-04-22-04-47-650/source/sourcedir.tar.gz\",\n",
      "    \"module_name\": \"train_iris\",\n",
      "    \"network_interface_name\": \"eth0\",\n",
      "    \"num_cpus\": 4,\n",
      "    \"num_gpus\": 0,\n",
      "    \"output_data_dir\": \"/opt/ml/output/data\",\n",
      "    \"output_dir\": \"/opt/ml/output\",\n",
      "    \"output_intermediate_dir\": \"/opt/ml/output/intermediate\",\n",
      "    \"resource_config\": {\n",
      "        \"current_host\": \"algo-1\",\n",
      "        \"current_instance_type\": \"ml.m5.xlarge\",\n",
      "        \"current_group_name\": \"homogeneousCluster\",\n",
      "        \"hosts\": [\n",
      "            \"algo-1\"\n",
      "        ],\n",
      "        \"instance_groups\": [\n",
      "            {\n",
      "                \"instance_group_name\": \"homogeneousCluster\",\n",
      "                \"instance_type\": \"ml.m5.xlarge\",\n",
      "                \"hosts\": [\n",
      "                    \"algo-1\"\n",
      "                ]\n",
      "            }\n",
      "        ],\n",
      "        \"network_interface_name\": \"eth0\"\n",
      "    },\n",
      "    \"user_entry_point\": \"train_iris.py\"\u001b[0m\n",
      "\u001b[34m}\u001b[0m\n",
      "\u001b[34mEnvironment variables:\u001b[0m\n",
      "\u001b[34mSM_HOSTS=[\"algo-1\"]\u001b[0m\n",
      "\u001b[34mSM_NETWORK_INTERFACE_NAME=eth0\u001b[0m\n",
      "\u001b[34mSM_HPS={\"max_depth\":10,\"n_estimators\":10}\u001b[0m\n",
      "\u001b[34mSM_USER_ENTRY_POINT=train_iris.py\u001b[0m\n",
      "\u001b[34mSM_FRAMEWORK_PARAMS={}\u001b[0m\n",
      "\u001b[34mSM_RESOURCE_CONFIG={\"current_group_name\":\"homogeneousCluster\",\"current_host\":\"algo-1\",\"current_instance_type\":\"ml.m5.xlarge\",\"hosts\":[\"algo-1\"],\"instance_groups\":[{\"hosts\":[\"algo-1\"],\"instance_group_name\":\"homogeneousCluster\",\"instance_type\":\"ml.m5.xlarge\"}],\"network_interface_name\":\"eth0\"}\u001b[0m\n",
      "\u001b[34mSM_INPUT_DATA_CONFIG={}\u001b[0m\n",
      "\u001b[34mSM_OUTPUT_DATA_DIR=/opt/ml/output/data\u001b[0m\n",
      "\u001b[34mSM_CHANNELS=[]\u001b[0m\n",
      "\u001b[34mSM_CURRENT_HOST=algo-1\u001b[0m\n",
      "\u001b[34mSM_MODULE_NAME=train_iris\u001b[0m\n",
      "\u001b[34mSM_LOG_LEVEL=20\u001b[0m\n",
      "\u001b[34mSM_FRAMEWORK_MODULE=sagemaker_sklearn_container.training:main\u001b[0m\n",
      "\u001b[34mSM_INPUT_DIR=/opt/ml/input\u001b[0m\n",
      "\u001b[34mSM_INPUT_CONFIG_DIR=/opt/ml/input/config\u001b[0m\n",
      "\u001b[34mSM_OUTPUT_DIR=/opt/ml/output\u001b[0m\n",
      "\u001b[34mSM_NUM_CPUS=4\u001b[0m\n",
      "\u001b[34mSM_NUM_GPUS=0\u001b[0m\n",
      "\u001b[34mSM_MODEL_DIR=/opt/ml/model\u001b[0m\n",
      "\u001b[34mSM_MODULE_DIR=s3://apartment-pricing/sagemaker-scikit-learn-2024-12-04-22-04-47-650/source/sourcedir.tar.gz\u001b[0m\n",
      "\u001b[34mSM_TRAINING_ENV={\"additional_framework_parameters\":{},\"channel_input_dirs\":{},\"current_host\":\"algo-1\",\"framework_module\":\"sagemaker_sklearn_container.training:main\",\"hosts\":[\"algo-1\"],\"hyperparameters\":{\"max_depth\":10,\"n_estimators\":10},\"input_config_dir\":\"/opt/ml/input/config\",\"input_data_config\":{},\"input_dir\":\"/opt/ml/input\",\"is_master\":true,\"job_name\":\"sagemaker-scikit-learn-2024-12-04-22-04-47-650\",\"log_level\":20,\"master_hostname\":\"algo-1\",\"model_dir\":\"/opt/ml/model\",\"module_dir\":\"s3://apartment-pricing/sagemaker-scikit-learn-2024-12-04-22-04-47-650/source/sourcedir.tar.gz\",\"module_name\":\"train_iris\",\"network_interface_name\":\"eth0\",\"num_cpus\":4,\"num_gpus\":0,\"output_data_dir\":\"/opt/ml/output/data\",\"output_dir\":\"/opt/ml/output\",\"output_intermediate_dir\":\"/opt/ml/output/intermediate\",\"resource_config\":{\"current_group_name\":\"homogeneousCluster\",\"current_host\":\"algo-1\",\"current_instance_type\":\"ml.m5.xlarge\",\"hosts\":[\"algo-1\"],\"instance_groups\":[{\"hosts\":[\"algo-1\"],\"instance_group_name\":\"homogeneousCluster\",\"instance_type\":\"ml.m5.xlarge\"}],\"network_interface_name\":\"eth0\"},\"user_entry_point\":\"train_iris.py\"}\u001b[0m\n",
      "\u001b[34mSM_USER_ARGS=[\"--max_depth\",\"10\",\"--n_estimators\",\"10\"]\u001b[0m\n",
      "\u001b[34mSM_OUTPUT_INTERMEDIATE_DIR=/opt/ml/output/intermediate\u001b[0m\n",
      "\u001b[34mSM_HP_MAX_DEPTH=10\u001b[0m\n",
      "\u001b[34mSM_HP_N_ESTIMATORS=10\u001b[0m\n",
      "\u001b[34mPYTHONPATH=/opt/ml/code:/miniconda3/bin:/miniconda3/lib/python37.zip:/miniconda3/lib/python3.7:/miniconda3/lib/python3.7/lib-dynload:/miniconda3/lib/python3.7/site-packages\u001b[0m\n",
      "\u001b[34mInvoking script with the following command:\u001b[0m\n",
      "\u001b[34m/miniconda3/bin/python train_iris.py --max_depth 10 --n_estimators 10\u001b[0m\n",
      "\u001b[34m#quality_metric: host=unknown, train f1_score <score>=1.0\u001b[0m\n",
      "\u001b[34m#quality_metric: host=unknown, valid f1_score <score>=0.24776919012056575\u001b[0m\n",
      "\u001b[34m2024-12-04 22:06:39,370 sagemaker-containers INFO     Reporting training SUCCESS\u001b[0m\n",
      "\n",
      "2024-12-04 22:06:55 Completed - Training job completed\n",
      "Training seconds: 79\n",
      "Billable seconds: 79\n"
     ]
    }
   ],
   "source": [
    "# Launch training job\n",
    "sklearn_estimator.fit()"
   ]
  },
  {
   "cell_type": "code",
   "execution_count": null,
   "id": "2f8b44e4-2dec-4374-8d16-79ebb6db5d3a",
   "metadata": {},
   "outputs": [],
   "source": []
  },
  {
   "cell_type": "code",
   "execution_count": 52,
   "id": "a005e323-6842-4536-8bd8-2d57c959fe7b",
   "metadata": {},
   "outputs": [
    {
     "name": "stderr",
     "output_type": "stream",
     "text": [
      "WARNING:sagemaker.estimator:No finished training job found associated with this estimator. Please make sure this estimator is only used for building workflow config\n",
      "WARNING:sagemaker.estimator:No finished training job found associated with this estimator. Please make sure this estimator is only used for building workflow config\n",
      "INFO:sagemaker:Creating hyperparameter tuning job with name: sagemaker-scikit-lea-241204-2309\n"
     ]
    },
    {
     "name": "stdout",
     "output_type": "stream",
     "text": [
      "..........................................................................!\n"
     ]
    }
   ],
   "source": [
    "# hyperparameter tuning job --> calls upto 10 training jobs\n",
    "# metric_definitions VIMP ... has to follow the format as printed in train.py. The job regex it from the cloudwatch log\n",
    "\n",
    "import sagemaker\n",
    "from sagemaker.sklearn import SKLearn\n",
    "from sagemaker.tuner import HyperparameterTuner, IntegerParameter\n",
    "from sagemaker import get_execution_role\n",
    "\n",
    "# Get SageMaker execution role\n",
    "role = get_execution_role()\n",
    "\n",
    "# S3 path for output\n",
    "output_path = \"s3://apartment-pricing/model/random_forest/\"\n",
    "\n",
    "# Define the SKLearn estimator\n",
    "sklearn_estimator = SKLearn(\n",
    "    entry_point=\"train_iris.py\",\n",
    "    role=role,\n",
    "    instance_count=1,\n",
    "    instance_type=\"ml.m5.xlarge\",\n",
    "    framework_version=\"1.2-1\",  # Updated to the latest version\n",
    "    output_path=output_path,\n",
    ")\n",
    "\n",
    "# Define hyperparameter ranges\n",
    "hyperparameter_ranges = {\n",
    "    \"n_estimators\": IntegerParameter(50, 200),\n",
    "    \"max_depth\": IntegerParameter(5, 20),\n",
    "}\n",
    "\n",
    "# Define objective metric\n",
    "objective_metric_name = \"valid_f1_score\"\n",
    "objective_type = \"Maximize\"\n",
    "\n",
    "# Create HyperparameterTuner object\n",
    "tuner = HyperparameterTuner(\n",
    "    estimator=sklearn_estimator,\n",
    "    objective_metric_name=\"valid_f1_score\",\n",
    "    hyperparameter_ranges=hyperparameter_ranges,\n",
    "    max_jobs=10,  # Total number of training jobs\n",
    "    max_parallel_jobs=2,  # Parallel training jobs\n",
    "    objective_type=objective_type,\n",
    "    metric_definitions=[\n",
    "    {\"Name\": \"valid_f1_score\", \n",
    "     \"Regex\": \"#quality_metric: host=unknown, valid f1_score <score>=(.*)\"},\n",
    "    ],\n",
    ")\n",
    "\n",
    "# Start hyperparameter tuning\n",
    "tuner.fit()\n"
   ]
  },
  {
   "cell_type": "code",
   "execution_count": null,
   "id": "42e46103-e516-40ec-9281-d661845f61f6",
   "metadata": {},
   "outputs": [],
   "source": []
  },
  {
   "cell_type": "code",
   "execution_count": 56,
   "id": "4e9a55d9-6126-4149-9de6-abc9e4f9f0c7",
   "metadata": {},
   "outputs": [
    {
     "name": "stdout",
     "output_type": "stream",
     "text": [
      "{'HyperParameterTuningJobName': 'sagemaker-scikit-lea-241204-2309', 'HyperParameterTuningJobArn': 'arn:aws:sagemaker:us-east-1:442426877041:hyper-parameter-tuning-job/sagemaker-scikit-lea-241204-2309', 'HyperParameterTuningJobConfig': {'Strategy': 'Bayesian', 'HyperParameterTuningJobObjective': {'Type': 'Maximize', 'MetricName': 'valid_f1_score'}, 'ResourceLimits': {'MaxNumberOfTrainingJobs': 10, 'MaxParallelTrainingJobs': 2}, 'ParameterRanges': {'IntegerParameterRanges': [{'Name': 'n_estimators', 'MinValue': '50', 'MaxValue': '200', 'ScalingType': 'Auto'}, {'Name': 'max_depth', 'MinValue': '5', 'MaxValue': '20', 'ScalingType': 'Auto'}], 'ContinuousParameterRanges': [], 'CategoricalParameterRanges': []}, 'TrainingJobEarlyStoppingType': 'Off'}, 'TrainingJobDefinition': {'StaticHyperParameters': {'_tuning_objective_metric': 'valid_f1_score', 'sagemaker_container_log_level': '20', 'sagemaker_estimator_class_name': '\"SKLearn\"', 'sagemaker_estimator_module': '\"sagemaker.sklearn.estimator\"', 'sagemaker_job_name': '\"sagemaker-scikit-learn-2024-12-04-23-09-04-839\"', 'sagemaker_program': '\"train_iris.py\"', 'sagemaker_region': '\"us-east-1\"', 'sagemaker_submit_directory': '\"s3://apartment-pricing/sagemaker-scikit-learn-2024-12-04-23-09-04-839/source/sourcedir.tar.gz\"'}, 'AlgorithmSpecification': {'TrainingImage': '683313688378.dkr.ecr.us-east-1.amazonaws.com/sagemaker-scikit-learn:1.2-1-cpu-py3', 'TrainingInputMode': 'File', 'MetricDefinitions': [{'Name': 'valid_f1_score', 'Regex': '#quality_metric: host=unknown, valid f1_score <score>=(.*)'}, {'Name': 'ObjectiveMetric', 'Regex': '#quality_metric: host=unknown, valid f1_score <score>=(.*)'}]}, 'RoleArn': 'arn:aws:iam::442426877041:role/service-role/AmazonSageMaker-ExecutionRole-20241027T144204', 'OutputDataConfig': {'S3OutputPath': 's3://apartment-pricing/model/random_forest/'}, 'ResourceConfig': {'InstanceType': 'ml.m5.xlarge', 'InstanceCount': 1, 'VolumeSizeInGB': 30}, 'StoppingCondition': {'MaxRuntimeInSeconds': 86400}, 'EnableNetworkIsolation': False, 'EnableInterContainerTrafficEncryption': False, 'EnableManagedSpotTraining': False}, 'HyperParameterTuningJobStatus': 'Completed', 'CreationTime': datetime.datetime(2024, 12, 4, 23, 9, 5, 160000, tzinfo=tzlocal()), 'HyperParameterTuningEndTime': datetime.datetime(2024, 12, 4, 23, 15, 23, 324000, tzinfo=tzlocal()), 'LastModifiedTime': datetime.datetime(2024, 12, 4, 23, 15, 23, 324000, tzinfo=tzlocal()), 'TrainingJobStatusCounters': {'Completed': 10, 'InProgress': 0, 'RetryableError': 0, 'NonRetryableError': 0, 'Stopped': 0}, 'ObjectiveStatusCounters': {'Succeeded': 10, 'Pending': 0, 'Failed': 0}, 'BestTrainingJob': {'TrainingJobName': 'sagemaker-scikit-lea-241204-2309-007-364b6d61', 'TrainingJobArn': 'arn:aws:sagemaker:us-east-1:442426877041:training-job/sagemaker-scikit-lea-241204-2309-007-364b6d61', 'CreationTime': datetime.datetime(2024, 12, 4, 23, 12, 58, tzinfo=tzlocal()), 'TrainingStartTime': datetime.datetime(2024, 12, 4, 23, 13, 3, tzinfo=tzlocal()), 'TrainingEndTime': datetime.datetime(2024, 12, 4, 23, 13, 32, tzinfo=tzlocal()), 'TrainingJobStatus': 'Completed', 'TunedHyperParameters': {'max_depth': '13', 'n_estimators': '50'}, 'FinalHyperParameterTuningJobObjectiveMetric': {'MetricName': 'valid_f1_score', 'Value': 0.8101555705070496}, 'ObjectiveStatus': 'Succeeded'}, 'TuningJobCompletionDetails': {'NumberOfTrainingJobsObjectiveNotImproving': 4}, 'ConsumedResources': {'RuntimeInSeconds': 377}, 'ResponseMetadata': {'RequestId': 'f355553a-82af-4a7e-a8e6-325419b9d0dd', 'HTTPStatusCode': 200, 'HTTPHeaders': {'x-amzn-requestid': 'f355553a-82af-4a7e-a8e6-325419b9d0dd', 'content-type': 'application/x-amz-json-1.1', 'content-length': '3175', 'date': 'Thu, 05 Dec 2024 01:39:13 GMT'}, 'RetryAttempts': 0}}\n"
     ]
    }
   ],
   "source": [
    "# gets details of the tuning job\n",
    "\n",
    "import boto3\n",
    "\n",
    "client = boto3.client('sagemaker')\n",
    "\n",
    "response = client.describe_hyper_parameter_tuning_job(\n",
    "    HyperParameterTuningJobName='sagemaker-scikit-lea-241204-2309'\n",
    ")\n",
    "\n",
    "print(response)\n"
   ]
  },
  {
   "cell_type": "code",
   "execution_count": 55,
   "id": "4b93187c-9fac-4bec-9c72-2ca2532d2b0d",
   "metadata": {},
   "outputs": [
    {
     "name": "stdout",
     "output_type": "stream",
     "text": [
      "{'TrainingJobName': 'sagemaker-scikit-lea-241204-2309-007-364b6d61', 'TrainingJobArn': 'arn:aws:sagemaker:us-east-1:442426877041:training-job/sagemaker-scikit-lea-241204-2309-007-364b6d61', 'CreationTime': datetime.datetime(2024, 12, 4, 23, 12, 58, tzinfo=tzlocal()), 'TrainingStartTime': datetime.datetime(2024, 12, 4, 23, 13, 3, tzinfo=tzlocal()), 'TrainingEndTime': datetime.datetime(2024, 12, 4, 23, 13, 32, tzinfo=tzlocal()), 'TrainingJobStatus': 'Completed', 'TunedHyperParameters': {'max_depth': '13', 'n_estimators': '50'}, 'FinalHyperParameterTuningJobObjectiveMetric': {'MetricName': 'valid_f1_score', 'Value': 0.8101555705070496}, 'ObjectiveStatus': 'Succeeded'}\n"
     ]
    }
   ],
   "source": [
    "print(response['BestTrainingJob'])"
   ]
  },
  {
   "cell_type": "code",
   "execution_count": null,
   "id": "e34a43bf-7945-4f71-8496-efb0b7370a6e",
   "metadata": {},
   "outputs": [],
   "source": []
  }
 ],
 "metadata": {
  "kernelspec": {
   "display_name": "Python 3 (ipykernel)",
   "language": "python",
   "name": "python3"
  },
  "language_info": {
   "codemirror_mode": {
    "name": "ipython",
    "version": 3
   },
   "file_extension": ".py",
   "mimetype": "text/x-python",
   "name": "python",
   "nbconvert_exporter": "python",
   "pygments_lexer": "ipython3",
   "version": "3.11.10"
  }
 },
 "nbformat": 4,
 "nbformat_minor": 5
}
