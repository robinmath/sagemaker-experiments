{
 "cells": [
  {
   "cell_type": "code",
   "execution_count": 2,
   "id": "137f5880-9b98-408c-9e9f-9f9541cc4c0c",
   "metadata": {},
   "outputs": [
    {
     "name": "stdout",
     "output_type": "stream",
     "text": [
      "File uploaded to s3://apartment-pricing/TrainData/rental_pricing_dataset.csv\n"
     ]
    }
   ],
   "source": [
    "import pandas as pd\n",
    "import numpy as np\n",
    "import boto3\n",
    "\n",
    "# Set up the random seed for reproducibility\n",
    "np.random.seed(42)\n",
    "\n",
    "# Number of samples\n",
    "n_samples = 20000\n",
    "\n",
    "# Generate random data for the input features\n",
    "square_footage = np.random.randint(400, 3000, size=n_samples)\n",
    "num_rooms = np.random.randint(1, 6, size=n_samples)\n",
    "num_bathrooms = np.random.randint(1, 4, size=n_samples)\n",
    "has_balcony = np.random.randint(0, 2, size=n_samples)\n",
    "has_gym_access = np.random.randint(0, 2, size=n_samples)\n",
    "has_parking = np.random.randint(0, 2, size=n_samples)\n",
    "neighborhood_safety_index = np.random.uniform(1, 10, size=n_samples).round(2)\n",
    "walk_score = np.random.randint(0, 100, size=n_samples)\n",
    "school_rating = np.random.uniform(1, 10, size=n_samples).round(1)\n",
    "\n",
    "# Simulate rent based on a combination of features with some added noise\n",
    "rent = (\n",
    "    (square_footage * 1.5) + \n",
    "    (num_rooms * 150) + \n",
    "    (num_bathrooms * 200) + \n",
    "    (has_balcony * 100) + \n",
    "    (has_gym_access * 75) + \n",
    "    (has_parking * 50) + \n",
    "    (neighborhood_safety_index * 100) + \n",
    "    (walk_score * 10) + \n",
    "    (school_rating * 50) +\n",
    "    np.random.normal(0, 250, n_samples)  # adding some noise\n",
    ")\n",
    "\n",
    "# Create DataFrame\n",
    "df = pd.DataFrame({\n",
    "    'SquareFootage': square_footage,\n",
    "    'NumRooms': num_rooms,\n",
    "    'NumBathrooms': num_bathrooms,\n",
    "    'HasBalcony': has_balcony,\n",
    "    'HasGymAccess': has_gym_access,\n",
    "    'HasParking': has_parking,\n",
    "    'NeighborhoodSafetyIndex': neighborhood_safety_index,\n",
    "    'WalkScore': walk_score,\n",
    "    'SchoolRating': school_rating,\n",
    "    'Rent': rent.round(2)  # rounding Rent to 2 decimal places\n",
    "})\n",
    "\n",
    "# Save to CSV\n",
    "file_name = 'rental_pricing_dataset.csv'\n",
    "df.to_csv(file_name, index=False)\n",
    "\n",
    "# Upload to S3\n",
    "s3 = boto3.client('s3')\n",
    "bucket_name = 'apartment-pricing'  # replace with your S3 bucket name\n",
    "s3.upload_file(file_name, bucket_name, \"TrainData/\"+file_name)\n",
    "\n",
    "print(f\"File uploaded to s3://{bucket_name}/TrainData/{file_name}\")"
   ]
  },
  {
   "cell_type": "code",
   "execution_count": 3,
   "id": "cd434084-c277-4c6f-88a8-ab18344109bc",
   "metadata": {},
   "outputs": [
    {
     "name": "stdout",
     "output_type": "stream",
     "text": [
      "File uploaded to s3://apartment-pricing/ValidData/rental_pricing_dataset.csv\n"
     ]
    }
   ],
   "source": [
    "import pandas as pd\n",
    "import numpy as np\n",
    "import boto3\n",
    "\n",
    "# Set up the random seed for reproducibility\n",
    "np.random.seed(40)\n",
    "\n",
    "# Number of samples\n",
    "n_samples = 5000\n",
    "\n",
    "# Generate random data for the input features\n",
    "square_footage = np.random.randint(400, 3000, size=n_samples)\n",
    "num_rooms = np.random.randint(1, 6, size=n_samples)\n",
    "num_bathrooms = np.random.randint(1, 4, size=n_samples)\n",
    "has_balcony = np.random.randint(0, 2, size=n_samples)\n",
    "has_gym_access = np.random.randint(0, 2, size=n_samples)\n",
    "has_parking = np.random.randint(0, 2, size=n_samples)\n",
    "neighborhood_safety_index = np.random.uniform(1, 10, size=n_samples).round(2)\n",
    "walk_score = np.random.randint(0, 100, size=n_samples)\n",
    "school_rating = np.random.uniform(1, 10, size=n_samples).round(1)\n",
    "\n",
    "# Simulate rent based on a combination of features with some added noise\n",
    "rent = (\n",
    "    (square_footage * 1.5) + \n",
    "    (num_rooms * 150) + \n",
    "    (num_bathrooms * 200) + \n",
    "    (has_balcony * 100) + \n",
    "    (has_gym_access * 75) + \n",
    "    (has_parking * 50) + \n",
    "    (neighborhood_safety_index * 100) + \n",
    "    (walk_score * 10) + \n",
    "    (school_rating * 50) +\n",
    "    np.random.normal(0, 250, n_samples)  # adding some noise\n",
    ")\n",
    "\n",
    "# Create DataFrame\n",
    "df = pd.DataFrame({\n",
    "    'SquareFootage': square_footage,\n",
    "    'NumRooms': num_rooms,\n",
    "    'NumBathrooms': num_bathrooms,\n",
    "    'HasBalcony': has_balcony,\n",
    "    'HasGymAccess': has_gym_access,\n",
    "    'HasParking': has_parking,\n",
    "    'NeighborhoodSafetyIndex': neighborhood_safety_index,\n",
    "    'WalkScore': walk_score,\n",
    "    'SchoolRating': school_rating,\n",
    "    'Rent': rent.round(2)  # rounding Rent to 2 decimal places\n",
    "})\n",
    "\n",
    "# Save to CSV\n",
    "file_name = 'rental_pricing_dataset.csv'\n",
    "df.to_csv(file_name, index=False)\n",
    "\n",
    "# Upload to S3\n",
    "s3 = boto3.client('s3')\n",
    "bucket_name = 'apartment-pricing'  # replace with your S3 bucket name\n",
    "s3.upload_file(file_name, bucket_name, \"ValidData/\"+file_name)\n",
    "\n",
    "print(f\"File uploaded to s3://{bucket_name}/ValidData/{file_name}\")"
   ]
  },
  {
   "cell_type": "code",
   "execution_count": null,
   "id": "4427bef0-5413-4de2-a176-7bc1cd09b260",
   "metadata": {},
   "outputs": [],
   "source": []
  },
  {
   "cell_type": "code",
   "execution_count": null,
   "id": "f15a06ea-9eb0-42b8-a51a-057d0a4cb247",
   "metadata": {},
   "outputs": [],
   "source": []
  },
  {
   "cell_type": "code",
   "execution_count": 21,
   "id": "d83b073c-3519-481b-9aa9-80a1fb5fd68c",
   "metadata": {},
   "outputs": [
    {
     "name": "stdout",
     "output_type": "stream",
     "text": [
      "Cloning into 'amazon-sagemaker-examples'...\n",
      "remote: Enumerating objects: 35689, done.\u001b[K\n",
      "remote: Counting objects: 100% (1050/1050), done.\u001b[K\n",
      "remote: Compressing objects: 100% (683/683), done.\u001b[K\n",
      "remote: Total 35689 (delta 420), reused 853 (delta 343), pack-reused 34639 (from 1)\u001b[K\n",
      "Receiving objects: 100% (35689/35689), 637.69 MiB | 30.89 MiB/s, done.\n",
      "Resolving deltas: 100% (20431/20431), done.\n",
      "Updating files: 100% (2977/2977), done.\n"
     ]
    }
   ],
   "source": [
    "# ! git clone --branch main https://github.com/aws/amazon-sagemaker-examples.git"
   ]
  },
  {
   "cell_type": "code",
   "execution_count": 2,
   "id": "e964238d-2c74-47fa-b319-874c941bcb27",
   "metadata": {},
   "outputs": [
    {
     "name": "stdout",
     "output_type": "stream",
     "text": [
      "Cloning into 'AmazonSageMakerCourse'...\n",
      "remote: Enumerating objects: 949, done.\u001b[K\n",
      "remote: Counting objects: 100% (289/289), done.\u001b[K\n",
      "remote: Compressing objects: 100% (67/67), done.\u001b[K\n",
      "remote: Total 949 (delta 250), reused 227 (delta 220), pack-reused 660 (from 1)\u001b[K\n",
      "Receiving objects: 100% (949/949), 67.10 MiB | 33.44 MiB/s, done.\n",
      "Resolving deltas: 100% (524/524), done.\n"
     ]
    }
   ],
   "source": [
    "# ! git clone --branch master https://github.com/ChandraLingam/AmazonSageMakerCourse.git"
   ]
  },
  {
   "cell_type": "code",
   "execution_count": null,
   "id": "080760e5-a6d7-4dc4-8604-b8f4c60d5dc0",
   "metadata": {},
   "outputs": [],
   "source": []
  }
 ],
 "metadata": {
  "kernelspec": {
   "display_name": "Python 3 (ipykernel)",
   "language": "python",
   "name": "python3"
  },
  "language_info": {
   "codemirror_mode": {
    "name": "ipython",
    "version": 3
   },
   "file_extension": ".py",
   "mimetype": "text/x-python",
   "name": "python",
   "nbconvert_exporter": "python",
   "pygments_lexer": "ipython3",
   "version": "3.11.10"
  }
 },
 "nbformat": 4,
 "nbformat_minor": 5
}
