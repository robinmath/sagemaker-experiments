{
 "cells": [
  {
   "cell_type": "code",
   "execution_count": 1,
   "id": "8ece19ba-2d32-4445-be0b-d8e4474a5926",
   "metadata": {
    "editable": true,
    "kernelspec": {
     "display_name": "SparkMagic PySpark",
     "language": "python",
     "name": "pysparkkernel"
    },
    "language_info": {
     "codemirror_mode": {
      "name": "python",
      "version": 3
     },
     "file_extension": ".py",
     "mimetype": "text/x-python",
     "name": "pyspark",
     "pygments_lexer": "python3"
    },
    "slideshow": {
     "slide_type": ""
    },
    "tags": []
   },
   "outputs": [
    {
     "name": "stdout",
     "output_type": "stream",
     "text": [
      "Initiating EMR Serverless connection..\n",
      "Starting Spark application\n"
     ]
    },
    {
     "data": {
      "text/html": [
       "<table>\n",
       "<tr><th>ID</th><th>YARN Application ID</th><th>Kind</th><th>State</th><th>Spark UI</th><th>Driver log</th><th>User</th><th>Current session?</th></tr><tr><td>0</td><td>00fo6c5j6jc5nh0a</td><td>pyspark</td><td>idle</td><td><a target=\"_blank\" href=\"https://j-00fo6c5j6jc5nh0a.dashboard.emr-serverless.us-east-1.amazonaws.com/?authToken=eDAxDqgRJw2LSNyU3gsxQ-69jMS1Cw7wQ2JmLhRodj_mQLglNbWGJana_EhwizJRZax3ELigw1FtKRUaeDQnzAZ4Scv4ViibHpCQ6dErEQzmvK4iCPuyx5Cb7yf9a58USzSxJYokJf_F_1cGx6tdIE9QyVxBxS8iQj0AO72fX1mfiatOEaYP7p1Mr2wRyznJQNgvbYn3qOyrvj_jW_k1orJuVkwQ2mJc6y0Cf4Vq4EW8cx3HmwRe7Qwn-43kRsh4kjr3zI1rsZyptTYN1Tj54Va7fXeMQ-RdfN_5GhtlfnmFeALYeL5FwyLG28xTsjPNFNuemXccP_HqTSzambnliNjvJH2hAJIU1A8IAG6GU_OIGVOZDiDR3VwAzDNuDLgmSW4gFlNp81QSolgHERkCb2qJf9-86OI2yU_QO2gymkw0PGkonjCRTij3wVMD8aopS2zawT-EM7R2l_uNi14Gasi3jaHIXDGrycqN45z7rJ_Ow-6V1yPbBNaScQoyIxc-6EwrbwXvPpRrO3VQ8uGCfWKbjB4l79sDTcL7YozthsLpoSduDp5e5R4ro2PicwvU_HS6k0gKBWQc5kGhjOZWWbCEaG5sNKB-JcMeB8sxaEF4FM9PHMJqqbYRgpbk0e_Jx3M7gdIi51v6aDRpH_nJ9ec58g9h8PXNJ9TERjDRpPdt0929mpLc_TBAhUvykMpihl6pt6dpVbjaCj49gdI4XU_A79ZFnDfFzqJiOEMyGpVLAwAVdQxbRNc-QNOrhTUAD2byG_f1OYZo2v4HweCMoYgqyPhrlH9_jOcnHFQG56zmkFHlKjvsvT_WP8eOXi68aS_JLRNdT_MG2nTwDaonSkajJQPgPnLptpe0WKwis8X8SbKCFb8TiUjdLUC-ARrlTBQnwm2xNSy3g5MwLaKkzGbqbFkFMbetW38VwzyV0HpKi2Cxfu3Bv-rhJpOMqwF9raE.eyJraWQiOiJBUUlCQUhnTVJ1MlZyR2FFajR3bTc2dEZqMThGMUsyVFdZbkk4WXpxS0lRamg5YTZHZ0VQV2dxTnpvVzllc3RTa2xMQjJKbTZBQUFBb2pDQm53WUpLb1pJaHZjTkFRY0dvSUdSTUlHT0FnRUFNSUdJQmdrcWhraUc5dzBCQndFd0hnWUpZSVpJQVdVREJBRXVNQkVFREZNOU1DTm02WktiWGc4bFVRSUJFSUJiU0NUamlWTVlQL05mOENveVoyK1gwUkVlcTM5OVMwZGZjamNkbTgza2hyYy83NSs5bkM4YktlaTM4dU9lcGQzTENuTG53RVEvSkc2U2RiZjh5ZW5QYldVTkZmS0tsR2x6K0lTZnFJdFUyWmtzTmtaL2lkUHpSc2N0aFE9PSJ9\">Link</a></td><td><a target=\"_blank\" href=\"https://j-00fo6c5j6jc5nh0a.dashboard.emr-serverless.us-east-1.amazonaws.com/logs/SPARK_DRIVER/stderr.gz?authToken=eDAxco5EtdG921Z_mHuNcOzdE4IBVYfjQw9LdcRupEquzA1xSpl2R7H1mbwLszbqVDPwgYM98vp2xef3b20a7Ep8pPMHMIIpZQ0P3ghnX4xTHzZF0VnkEYjb1z-9WXc7_Qe2PTjPUmr5leaOPqy1tskMgy1jZVc5ZPwe_TiGfB4pbUzHqUIh8223tkd8V5dr494-3HGHXu5upZCyKHOEwVG13vpJvB3ssYS5Zp4QuvFI9yCK4AjE10KPBvlVLkwgsHAvG6ls0F2Z5Kf1_C4QhYVijvoxIFLK-PE6s1tqcl-_55MtESdX4F-EQv4kpUcJpZSZVhQ2DzmBWDcNsGbPOx07LH6-mKMFKZINJGjoqcNTdFIYVnX3wdIoSfhxKC9PYpeSKEJM_OvsoPeGAfVSNOAK56Y6CVUJ47UYmbmwGmLSR4Ohs1bcvdR5H4124NMLxEf2XzVH0PQBZ1enGkg3-QV1C98c2-Vd4bN588bMg6nl4HBfxhj1ifUkx3iuvLTm0XVFmKri5iqR99ZI9WFo2QwR5kcgLnWBO_JtHchN7d-9RkJeEqwhF2RU-6QDW9kcIkaVTCzF7r22qZXWnC09NAT9EF48ouT0LkhQU-kTp1S2cCjS_LfcM54jMj_sXnkJDLktxww-464mo2ZzMphjiWisyA_d2f5-2GeByyd-7zwUtXNS9EerOa4SkwGcgsLbTRKctG5XkC1CJr28sL9pBOvTkBrEM6GO6hhf_LQcq-Ich7JZScsMFAWqo7qpCW62fHy7NW-wx-hMjJV-pzp4aqKPfc4b6TiUTzabbYE46UEAnlK1F-AgVBy34TV_OjwquQoRDk5Az1RHA1w9dVbZ55dP-W6ZKBunaf-BZISNUY0ZBSJyCzz7Gq4f68UqP_uT7cabFu3jGMimDwdgorHqIhdB-vunC2TQvNWhwaznPACQSH5OD2yZwxAh1WudZBHDmQg.eyJraWQiOiJBUUlCQUhnTVJ1MlZyR2FFajR3bTc2dEZqMThGMUsyVFdZbkk4WXpxS0lRamg5YTZHZ0VIWktRQXFqSU1lcjBXZE8zenM5L25BQUFBb2pDQm53WUpLb1pJaHZjTkFRY0dvSUdSTUlHT0FnRUFNSUdJQmdrcWhraUc5dzBCQndFd0hnWUpZSVpJQVdVREJBRXVNQkVFREJvaE9GbSsvREVBbm1UOHRRSUJFSUJiRGpnSy8rM0QrcUJuUzJCbkpnajQrQ2NEWWJmRWI4L1FzNFk2VTFBdVFXTTlQblFkNW1Na2NJRWNPckRrdU1QSDdMdjQ3eW02SFVlKzd0L2VvdndYODR6YThxM1B4NGpacVdaT0g4a0ZrSkt5cDVJZVFzR2ZZVTBjWUE9PSJ9\">Link</a></td><td>None</td><td>✔</td></tr></table>"
      ],
      "text/plain": [
       "<IPython.core.display.HTML object>"
      ]
     },
     "metadata": {},
     "output_type": "display_data"
    },
    {
     "data": {
      "application/vnd.jupyter.widget-view+json": {
       "model_id": "",
       "version_major": 2,
       "version_minor": 0
      },
      "text/plain": [
       "FloatProgress(value=0.0, bar_style='info', description='Progress:', layout=Layout(height='25px', width='50%'),…"
      ]
     },
     "metadata": {},
     "output_type": "display_data"
    },
    {
     "name": "stdout",
     "output_type": "stream",
     "text": [
      "SparkSession available as 'spark'.\n"
     ]
    }
   ],
   "source": [
    "%load_ext sagemaker_studio_analytics_extension.magics\n",
    "%sm_analytics emr-serverless connect --application-id 00fo38nsirh68609 --language python --emr-execution-role-arn arn:aws:iam::442426877041:role/service-role/AmazonEMRStudio_RuntimeRole_1731016215290"
   ]
  },
  {
   "cell_type": "code",
   "execution_count": null,
   "id": "1d1c0bb1-77f1-4396-b8d3-d91e3375ef87",
   "metadata": {},
   "outputs": [],
   "source": [
    "from pyspark.sql import SparkSession\n",
    "\n",
    "# Initialize Spark Session\n",
    "spark = SparkSession.builder.appName(\"ReadCSV\").getOrCreate()"
   ]
  },
  {
   "cell_type": "code",
   "execution_count": 7,
   "id": "ed7650a9-e112-45c2-bc76-938b79050cd9",
   "metadata": {},
   "outputs": [
    {
     "data": {
      "application/vnd.jupyter.widget-view+json": {
       "model_id": "",
       "version_major": 2,
       "version_minor": 0
      },
      "text/plain": [
       "FloatProgress(value=0.0, bar_style='info', description='Progress:', layout=Layout(height='25px', width='50%'),…"
      ]
     },
     "metadata": {},
     "output_type": "display_data"
    },
    {
     "name": "stdout",
     "output_type": "stream",
     "text": [
      "+-----------------+-----+---+---+---+---+---+------------------+---+----+\n",
      "|              _c0|  _c1|_c2|_c3|_c4|_c5|_c6|               _c7|_c8| _c9|\n",
      "+-----------------+-----+---+---+---+---+---+------------------+---+----+\n",
      "|3249.929931640625|400.0|4.0|2.0|0.0|0.0|1.0| 8.920000076293945|6.4|23.0|\n",
      "| 3873.68994140625|400.0|4.0|1.0|1.0|1.0|0.0| 7.559999942779541|9.4|93.0|\n",
      "|   2741.330078125|400.0|3.0|3.0|0.0|0.0|0.0|1.7200000286102295|7.5|19.0|\n",
      "| 3873.68994140625|400.0|4.0|1.0|1.0|1.0|0.0| 7.559999942779541|9.4|93.0|\n",
      "|3249.929931640625|400.0|4.0|2.0|0.0|0.0|1.0| 8.920000076293945|6.4|23.0|\n",
      "|   2741.330078125|400.0|3.0|3.0|0.0|0.0|0.0|1.7200000286102295|7.5|19.0|\n",
      "| 3873.68994140625|400.0|4.0|1.0|1.0|1.0|0.0| 7.559999942779541|9.4|93.0|\n",
      "|3249.929931640625|400.0|4.0|2.0|0.0|0.0|1.0| 8.920000076293945|6.4|23.0|\n",
      "|   2741.330078125|400.0|3.0|3.0|0.0|0.0|0.0|1.7200000286102295|7.5|19.0|\n",
      "|3038.699951171875|400.0|4.0|3.0|1.0|0.0|1.0| 8.869999885559082|0.4|51.0|\n",
      "|   2741.330078125|400.0|3.0|3.0|0.0|0.0|0.0|1.7200000286102295|7.5|19.0|\n",
      "| 3873.68994140625|400.0|4.0|1.0|1.0|1.0|0.0| 7.559999942779541|9.4|93.0|\n",
      "|   2741.330078125|400.0|3.0|3.0|0.0|0.0|0.0|1.7200000286102295|7.5|19.0|\n",
      "| 3873.68994140625|400.0|4.0|1.0|1.0|1.0|0.0| 7.559999942779541|9.4|93.0|\n",
      "|3249.929931640625|400.0|4.0|2.0|0.0|0.0|1.0| 8.920000076293945|6.4|23.0|\n",
      "|3038.699951171875|400.0|4.0|3.0|1.0|0.0|1.0| 8.869999885559082|0.4|51.0|\n",
      "|3249.929931640625|400.0|4.0|2.0|0.0|0.0|1.0| 8.920000076293945|6.4|23.0|\n",
      "|3038.699951171875|400.0|4.0|3.0|1.0|0.0|1.0| 8.869999885559082|0.4|51.0|\n",
      "| 3873.68994140625|400.0|4.0|1.0|1.0|1.0|0.0| 7.559999942779541|9.4|93.0|\n",
      "|   2741.330078125|400.0|3.0|3.0|0.0|0.0|0.0|1.7200000286102295|7.5|19.0|\n",
      "+-----------------+-----+---+---+---+---+---+------------------+---+----+\n",
      "only showing top 20 rows"
     ]
    }
   ],
   "source": [
    "# Read the CSV\n",
    "csv_path = \"s3://apartment-pricing/preprocessed/data/csv/part-00000-0afa893a-e1f7-408c-9dc3-a22b0207eb95-c000.csv\"\n",
    "n_rows = 10\n",
    "\n",
    "# Read CSV with inferSchema for better type inference (optional)\n",
    "df = spark.read.csv(csv_path, header=False, inferSchema=True)\n",
    "df.show()"
   ]
  },
  {
   "cell_type": "code",
   "execution_count": 5,
   "id": "77465fa1-0102-475f-9cf4-daf8365702a7",
   "metadata": {},
   "outputs": [
    {
     "data": {
      "application/vnd.jupyter.widget-view+json": {
       "model_id": "",
       "version_major": 2,
       "version_minor": 0
      },
      "text/plain": [
       "FloatProgress(value=0.0, bar_style='info', description='Progress:', layout=Layout(height='25px', width='50%'),…"
      ]
     },
     "metadata": {},
     "output_type": "display_data"
    },
    {
     "name": "stdout",
     "output_type": "stream",
     "text": [
      "+----+-------------+--------+------------+----------+------------+----------+-----------------------+---------+------------+\n",
      "|rent|squarefootage|numrooms|numbathrooms|hasbalcony|hasgymaccess|hasparking|neighborhoodsafetyindex|walkscore|schoolrating|\n",
      "+----+-------------+--------+------------+----------+------------+----------+-----------------------+---------+------------+\n",
      "+----+-------------+--------+------------+----------+------------+----------+-----------------------+---------+------------+\n",
      "\n",
      "Number of rows with non-numeric squarefootage: 0"
     ]
    }
   ],
   "source": [
    "from pyspark.sql.functions import col, when\n",
    "from pyspark.sql.types import DoubleType\n",
    "# Check for non-numeric values in 'squarefootage' column\n",
    "non_numeric_squarefootage = df.filter(~col(\"squarefootage\").cast(\"double\").isNotNull())\n",
    "\n",
    "# Show any rows with non-numeric values\n",
    "non_numeric_squarefootage.show(truncate=False)\n",
    "\n",
    "# Count how many rows have non-numeric values\n",
    "count = non_numeric_squarefootage.count()\n",
    "print(f\"Number of rows with non-numeric squarefootage: {count}\")\n"
   ]
  },
  {
   "cell_type": "code",
   "execution_count": null,
   "id": "81301cb2-2efc-4f5b-8fa9-0d799f2a8043",
   "metadata": {},
   "outputs": [],
   "source": []
  },
  {
   "cell_type": "code",
   "execution_count": 3,
   "id": "aaeca072-69ea-464a-a2cf-ebee796e40b2",
   "metadata": {},
   "outputs": [
    {
     "name": "stdout",
     "output_type": "stream",
     "text": [
      "Preprocessed data saved to s3://apartment-pricing/ValidData/preprocessed/rental_pricing_dataset.csv\n"
     ]
    }
   ],
   "source": [
    "import pandas as pd\n",
    "import boto3\n",
    "from io import StringIO\n",
    "\n",
    "# Input and output paths\n",
    "input_path = \"s3://apartment-pricing/ValidData/rental_pricing_dataset.csv\"\n",
    "output_path = \"s3://apartment-pricing/ValidData/preprocessed/rental_pricing_dataset.csv\"\n",
    "\n",
    "# Initialize S3 client\n",
    "s3 = boto3.client(\"s3\")\n",
    "\n",
    "# Read CSV from S3\n",
    "bucket_name, key_name = input_path.replace(\"s3://\", \"\").split(\"/\", 1)\n",
    "response = s3.get_object(Bucket=bucket_name, Key=key_name)\n",
    "df = pd.read_csv(response[\"Body\"])\n",
    "\n",
    "# Transformations\n",
    "df[\"SchoolRating\"] *= 10\n",
    "df[\"WalkScore\"] /= 10\n",
    "\n",
    "# Reorder columns to make 'rent' the first column\n",
    "columns = [\"Rent\"] + [col for col in df.columns if col != \"Rent\"]\n",
    "df = df[columns]\n",
    "\n",
    "# Save the processed data back to S3\n",
    "csv_buffer = StringIO()\n",
    "df.to_csv(csv_buffer, index=False, header=False)\n",
    "s3.put_object(Bucket=bucket_name, Key=\"ValidData/preprocessed/rental_pricing_dataset.csv\", Body=csv_buffer.getvalue())\n",
    "\n",
    "print(f\"Preprocessed data saved to {output_path}\")"
   ]
  },
  {
   "cell_type": "code",
   "execution_count": null,
   "id": "38cc8186-9f3e-4a88-b5d8-01806c43262d",
   "metadata": {},
   "outputs": [],
   "source": []
  }
 ],
 "metadata": {
  "kernelspec": {
   "display_name": "Python 3 (ipykernel)",
   "language": "python",
   "name": "python3"
  },
  "language_info": {
   "codemirror_mode": {
    "name": "ipython",
    "version": 3
   },
   "file_extension": ".py",
   "mimetype": "text/x-python",
   "name": "python",
   "nbconvert_exporter": "python",
   "pygments_lexer": "ipython3",
   "version": "3.11.10"
  }
 },
 "nbformat": 4,
 "nbformat_minor": 5
}
